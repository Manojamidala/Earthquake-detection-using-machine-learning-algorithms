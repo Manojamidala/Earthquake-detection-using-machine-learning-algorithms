{
  "cells": [
    {
      "cell_type": "markdown",
      "id": "57e97fb2",
      "metadata": {
        "papermill": {
          "duration": 0.015846,
          "end_time": "2023-03-16T16:52:39.599357",
          "exception": false,
          "start_time": "2023-03-16T16:52:39.583511",
          "status": "completed"
        },
        "tags": [],
        "id": "57e97fb2"
      },
      "source": [
        "# Import library files"
      ]
    },
    {
      "cell_type": "code",
      "execution_count": null,
      "id": "0b32149f",
      "metadata": {
        "execution": {
          "iopub.execute_input": "2023-03-16T16:52:39.625859Z",
          "iopub.status.busy": "2023-03-16T16:52:39.624502Z",
          "iopub.status.idle": "2023-03-16T16:52:41.777916Z",
          "shell.execute_reply": "2023-03-16T16:52:41.776691Z"
        },
        "papermill": {
          "duration": 2.169294,
          "end_time": "2023-03-16T16:52:41.781330",
          "exception": false,
          "start_time": "2023-03-16T16:52:39.612036",
          "status": "completed"
        },
        "tags": [],
        "id": "0b32149f"
      },
      "outputs": [],
      "source": [
        "import pandas as pd\n",
        "import numpy as np\n",
        "np.random.seed(42)\n",
        "\n",
        "import matplotlib.pyplot as plt\n",
        "import seaborn as sns\n",
        "plt.style.use('ggplot')\n",
        "%matplotlib inline\n",
        "\n",
        "import warnings\n",
        "warnings.filterwarnings('ignore')\n",
        "\n",
        "from imblearn.over_sampling import SMOTE\n",
        "from sklearn.model_selection import train_test_split\n",
        "from sklearn.preprocessing import StandardScaler\n",
        "\n",
        "#ML Algorithms\n",
        "from sklearn.tree import DecisionTreeClassifier\n",
        "from sklearn.linear_model import LogisticRegression\n",
        "from sklearn.neighbors import KNeighborsClassifier\n",
        "from sklearn.naive_bayes import GaussianNB\n",
        "from sklearn.neural_network import MLPClassifier\n",
        "from sklearn.svm import SVC\n",
        "from sklearn.ensemble import RandomForestClassifier, GradientBoostingClassifier\n",
        "\n",
        "from sklearn.metrics import f1_score,accuracy_score, recall_score, precision_score\n"
      ]
    },
    {
      "cell_type": "markdown",
      "id": "31292d45",
      "metadata": {
        "papermill": {
          "duration": 0.007703,
          "end_time": "2023-03-16T16:52:41.797345",
          "exception": false,
          "start_time": "2023-03-16T16:52:41.789642",
          "status": "completed"
        },
        "tags": [],
        "id": "31292d45"
      },
      "source": [
        "# Data understanding"
      ]
    },
    {
      "cell_type": "code",
      "execution_count": null,
      "id": "463a0ce1",
      "metadata": {
        "execution": {
          "iopub.execute_input": "2023-03-16T16:52:41.817138Z",
          "iopub.status.busy": "2023-03-16T16:52:41.816024Z",
          "iopub.status.idle": "2023-03-16T16:52:41.876468Z",
          "shell.execute_reply": "2023-03-16T16:52:41.875119Z"
        },
        "papermill": {
          "duration": 0.073033,
          "end_time": "2023-03-16T16:52:41.879099",
          "exception": false,
          "start_time": "2023-03-16T16:52:41.806066",
          "status": "completed"
        },
        "tags": [],
        "id": "463a0ce1"
      },
      "outputs": [],
      "source": [
        "df = pd.read_csv('/content/earthquake_data.csv')\n",
        "df.head().T\n",
        "df1=df.copy()"
      ]
    },
    {
      "cell_type": "code",
      "execution_count": null,
      "id": "d338dc4f",
      "metadata": {
        "execution": {
          "iopub.execute_input": "2023-03-16T16:52:41.898815Z",
          "iopub.status.busy": "2023-03-16T16:52:41.898361Z",
          "iopub.status.idle": "2023-03-16T16:52:41.910122Z",
          "shell.execute_reply": "2023-03-16T16:52:41.909071Z"
        },
        "papermill": {
          "duration": 0.024455,
          "end_time": "2023-03-16T16:52:41.912755",
          "exception": false,
          "start_time": "2023-03-16T16:52:41.888300",
          "status": "completed"
        },
        "tags": [],
        "id": "d338dc4f"
      },
      "outputs": [],
      "source": [
        "alerts = df[\"alert\"].unique()"
      ]
    },
    {
      "cell_type": "code",
      "execution_count": null,
      "id": "70888ecb",
      "metadata": {
        "colab": {
          "base_uri": "https://localhost:8080/",
          "height": 565
        },
        "id": "70888ecb",
        "outputId": "c81e8d91-ddeb-4617-b7d5-f303cb78804f"
      },
      "outputs": [
        {
          "output_type": "execute_result",
          "data": {
            "text/plain": [
              "                                          title  magnitude         date_time  \\\n",
              "0  M 7.0 - 18 km SW of Malango, Solomon Islands        7.0  22-11-2022 02:03   \n",
              "1      M 6.9 - 204 km SW of Bengkulu, Indonesia        6.9  18-11-2022 13:37   \n",
              "2                                      M 7.0 -         7.0  12-11-2022 07:09   \n",
              "3           M 7.3 - 205 km ESE of Neiafu, Tonga        7.3  11-11-2022 10:48   \n",
              "4                                      M 6.6 -         6.6  09-11-2022 10:14   \n",
              "\n",
              "   cdi  mmi  alert  Earthquake  sig net  nst   dmin   gap magType    depth  \\\n",
              "0    8    7  green           1  768  us  117  0.509  17.0     mww   14.000   \n",
              "1    4    4  green           0  735  us   99  2.229  34.0     mww   25.000   \n",
              "2    3    3  green           1  755  us  147  3.125  18.0     mww  579.000   \n",
              "3    5    5  green           1  833  us  149  1.865  21.0     mww   37.000   \n",
              "4    0    2  green           1  670  us  131  4.998  27.0     mww  624.464   \n",
              "\n",
              "   latitude  longitude                  location continent          country  \n",
              "0   -9.7963    159.596  Malango, Solomon Islands   Oceania  Solomon Islands  \n",
              "1   -4.9559    100.738       Bengkulu, Indonesia       NaN              NaN  \n",
              "2  -20.0508   -178.346                       NaN   Oceania             Fiji  \n",
              "3  -19.2918   -172.129             Neiafu, Tonga       NaN              NaN  \n",
              "4  -25.5948    178.278                       NaN       NaN              NaN  "
            ],
            "text/html": [
              "\n",
              "  <div id=\"df-6746cc42-0d0b-4073-8727-545903f2d062\">\n",
              "    <div class=\"colab-df-container\">\n",
              "      <div>\n",
              "<style scoped>\n",
              "    .dataframe tbody tr th:only-of-type {\n",
              "        vertical-align: middle;\n",
              "    }\n",
              "\n",
              "    .dataframe tbody tr th {\n",
              "        vertical-align: top;\n",
              "    }\n",
              "\n",
              "    .dataframe thead th {\n",
              "        text-align: right;\n",
              "    }\n",
              "</style>\n",
              "<table border=\"1\" class=\"dataframe\">\n",
              "  <thead>\n",
              "    <tr style=\"text-align: right;\">\n",
              "      <th></th>\n",
              "      <th>title</th>\n",
              "      <th>magnitude</th>\n",
              "      <th>date_time</th>\n",
              "      <th>cdi</th>\n",
              "      <th>mmi</th>\n",
              "      <th>alert</th>\n",
              "      <th>Earthquake</th>\n",
              "      <th>sig</th>\n",
              "      <th>net</th>\n",
              "      <th>nst</th>\n",
              "      <th>dmin</th>\n",
              "      <th>gap</th>\n",
              "      <th>magType</th>\n",
              "      <th>depth</th>\n",
              "      <th>latitude</th>\n",
              "      <th>longitude</th>\n",
              "      <th>location</th>\n",
              "      <th>continent</th>\n",
              "      <th>country</th>\n",
              "    </tr>\n",
              "  </thead>\n",
              "  <tbody>\n",
              "    <tr>\n",
              "      <th>0</th>\n",
              "      <td>M 7.0 - 18 km SW of Malango, Solomon Islands</td>\n",
              "      <td>7.0</td>\n",
              "      <td>22-11-2022 02:03</td>\n",
              "      <td>8</td>\n",
              "      <td>7</td>\n",
              "      <td>green</td>\n",
              "      <td>1</td>\n",
              "      <td>768</td>\n",
              "      <td>us</td>\n",
              "      <td>117</td>\n",
              "      <td>0.509</td>\n",
              "      <td>17.0</td>\n",
              "      <td>mww</td>\n",
              "      <td>14.000</td>\n",
              "      <td>-9.7963</td>\n",
              "      <td>159.596</td>\n",
              "      <td>Malango, Solomon Islands</td>\n",
              "      <td>Oceania</td>\n",
              "      <td>Solomon Islands</td>\n",
              "    </tr>\n",
              "    <tr>\n",
              "      <th>1</th>\n",
              "      <td>M 6.9 - 204 km SW of Bengkulu, Indonesia</td>\n",
              "      <td>6.9</td>\n",
              "      <td>18-11-2022 13:37</td>\n",
              "      <td>4</td>\n",
              "      <td>4</td>\n",
              "      <td>green</td>\n",
              "      <td>0</td>\n",
              "      <td>735</td>\n",
              "      <td>us</td>\n",
              "      <td>99</td>\n",
              "      <td>2.229</td>\n",
              "      <td>34.0</td>\n",
              "      <td>mww</td>\n",
              "      <td>25.000</td>\n",
              "      <td>-4.9559</td>\n",
              "      <td>100.738</td>\n",
              "      <td>Bengkulu, Indonesia</td>\n",
              "      <td>NaN</td>\n",
              "      <td>NaN</td>\n",
              "    </tr>\n",
              "    <tr>\n",
              "      <th>2</th>\n",
              "      <td>M 7.0 -</td>\n",
              "      <td>7.0</td>\n",
              "      <td>12-11-2022 07:09</td>\n",
              "      <td>3</td>\n",
              "      <td>3</td>\n",
              "      <td>green</td>\n",
              "      <td>1</td>\n",
              "      <td>755</td>\n",
              "      <td>us</td>\n",
              "      <td>147</td>\n",
              "      <td>3.125</td>\n",
              "      <td>18.0</td>\n",
              "      <td>mww</td>\n",
              "      <td>579.000</td>\n",
              "      <td>-20.0508</td>\n",
              "      <td>-178.346</td>\n",
              "      <td>NaN</td>\n",
              "      <td>Oceania</td>\n",
              "      <td>Fiji</td>\n",
              "    </tr>\n",
              "    <tr>\n",
              "      <th>3</th>\n",
              "      <td>M 7.3 - 205 km ESE of Neiafu, Tonga</td>\n",
              "      <td>7.3</td>\n",
              "      <td>11-11-2022 10:48</td>\n",
              "      <td>5</td>\n",
              "      <td>5</td>\n",
              "      <td>green</td>\n",
              "      <td>1</td>\n",
              "      <td>833</td>\n",
              "      <td>us</td>\n",
              "      <td>149</td>\n",
              "      <td>1.865</td>\n",
              "      <td>21.0</td>\n",
              "      <td>mww</td>\n",
              "      <td>37.000</td>\n",
              "      <td>-19.2918</td>\n",
              "      <td>-172.129</td>\n",
              "      <td>Neiafu, Tonga</td>\n",
              "      <td>NaN</td>\n",
              "      <td>NaN</td>\n",
              "    </tr>\n",
              "    <tr>\n",
              "      <th>4</th>\n",
              "      <td>M 6.6 -</td>\n",
              "      <td>6.6</td>\n",
              "      <td>09-11-2022 10:14</td>\n",
              "      <td>0</td>\n",
              "      <td>2</td>\n",
              "      <td>green</td>\n",
              "      <td>1</td>\n",
              "      <td>670</td>\n",
              "      <td>us</td>\n",
              "      <td>131</td>\n",
              "      <td>4.998</td>\n",
              "      <td>27.0</td>\n",
              "      <td>mww</td>\n",
              "      <td>624.464</td>\n",
              "      <td>-25.5948</td>\n",
              "      <td>178.278</td>\n",
              "      <td>NaN</td>\n",
              "      <td>NaN</td>\n",
              "      <td>NaN</td>\n",
              "    </tr>\n",
              "  </tbody>\n",
              "</table>\n",
              "</div>\n",
              "      <button class=\"colab-df-convert\" onclick=\"convertToInteractive('df-6746cc42-0d0b-4073-8727-545903f2d062')\"\n",
              "              title=\"Convert this dataframe to an interactive table.\"\n",
              "              style=\"display:none;\">\n",
              "        \n",
              "  <svg xmlns=\"http://www.w3.org/2000/svg\" height=\"24px\"viewBox=\"0 0 24 24\"\n",
              "       width=\"24px\">\n",
              "    <path d=\"M0 0h24v24H0V0z\" fill=\"none\"/>\n",
              "    <path d=\"M18.56 5.44l.94 2.06.94-2.06 2.06-.94-2.06-.94-.94-2.06-.94 2.06-2.06.94zm-11 1L8.5 8.5l.94-2.06 2.06-.94-2.06-.94L8.5 2.5l-.94 2.06-2.06.94zm10 10l.94 2.06.94-2.06 2.06-.94-2.06-.94-.94-2.06-.94 2.06-2.06.94z\"/><path d=\"M17.41 7.96l-1.37-1.37c-.4-.4-.92-.59-1.43-.59-.52 0-1.04.2-1.43.59L10.3 9.45l-7.72 7.72c-.78.78-.78 2.05 0 2.83L4 21.41c.39.39.9.59 1.41.59.51 0 1.02-.2 1.41-.59l7.78-7.78 2.81-2.81c.8-.78.8-2.07 0-2.86zM5.41 20L4 18.59l7.72-7.72 1.47 1.35L5.41 20z\"/>\n",
              "  </svg>\n",
              "      </button>\n",
              "      \n",
              "  <style>\n",
              "    .colab-df-container {\n",
              "      display:flex;\n",
              "      flex-wrap:wrap;\n",
              "      gap: 12px;\n",
              "    }\n",
              "\n",
              "    .colab-df-convert {\n",
              "      background-color: #E8F0FE;\n",
              "      border: none;\n",
              "      border-radius: 50%;\n",
              "      cursor: pointer;\n",
              "      display: none;\n",
              "      fill: #1967D2;\n",
              "      height: 32px;\n",
              "      padding: 0 0 0 0;\n",
              "      width: 32px;\n",
              "    }\n",
              "\n",
              "    .colab-df-convert:hover {\n",
              "      background-color: #E2EBFA;\n",
              "      box-shadow: 0px 1px 2px rgba(60, 64, 67, 0.3), 0px 1px 3px 1px rgba(60, 64, 67, 0.15);\n",
              "      fill: #174EA6;\n",
              "    }\n",
              "\n",
              "    [theme=dark] .colab-df-convert {\n",
              "      background-color: #3B4455;\n",
              "      fill: #D2E3FC;\n",
              "    }\n",
              "\n",
              "    [theme=dark] .colab-df-convert:hover {\n",
              "      background-color: #434B5C;\n",
              "      box-shadow: 0px 1px 3px 1px rgba(0, 0, 0, 0.15);\n",
              "      filter: drop-shadow(0px 1px 2px rgba(0, 0, 0, 0.3));\n",
              "      fill: #FFFFFF;\n",
              "    }\n",
              "  </style>\n",
              "\n",
              "      <script>\n",
              "        const buttonEl =\n",
              "          document.querySelector('#df-6746cc42-0d0b-4073-8727-545903f2d062 button.colab-df-convert');\n",
              "        buttonEl.style.display =\n",
              "          google.colab.kernel.accessAllowed ? 'block' : 'none';\n",
              "\n",
              "        async function convertToInteractive(key) {\n",
              "          const element = document.querySelector('#df-6746cc42-0d0b-4073-8727-545903f2d062');\n",
              "          const dataTable =\n",
              "            await google.colab.kernel.invokeFunction('convertToInteractive',\n",
              "                                                     [key], {});\n",
              "          if (!dataTable) return;\n",
              "\n",
              "          const docLinkHtml = 'Like what you see? Visit the ' +\n",
              "            '<a target=\"_blank\" href=https://colab.research.google.com/notebooks/data_table.ipynb>data table notebook</a>'\n",
              "            + ' to learn more about interactive tables.';\n",
              "          element.innerHTML = '';\n",
              "          dataTable['output_type'] = 'display_data';\n",
              "          await google.colab.output.renderOutput(dataTable, element);\n",
              "          const docLink = document.createElement('div');\n",
              "          docLink.innerHTML = docLinkHtml;\n",
              "          element.appendChild(docLink);\n",
              "        }\n",
              "      </script>\n",
              "    </div>\n",
              "  </div>\n",
              "  "
            ]
          },
          "metadata": {},
          "execution_count": 4
        }
      ],
      "source": [
        "df.head()"
      ]
    },
    {
      "cell_type": "code",
      "execution_count": null,
      "id": "65774311",
      "metadata": {
        "colab": {
          "base_uri": "https://localhost:8080/"
        },
        "id": "65774311",
        "outputId": "d9d4efaf-4e94-40f7-b48a-bc7cf01c52aa"
      },
      "outputs": [
        {
          "output_type": "execute_result",
          "data": {
            "text/plain": [
              "Index(['title', 'magnitude', 'date_time', 'cdi', 'mmi', 'alert', 'Earthquake',\n",
              "       'sig', 'net', 'nst', 'dmin', 'gap', 'magType', 'depth', 'latitude',\n",
              "       'longitude', 'location', 'continent', 'country'],\n",
              "      dtype='object')"
            ]
          },
          "metadata": {},
          "execution_count": 5
        }
      ],
      "source": [
        "df.columns"
      ]
    },
    {
      "cell_type": "code",
      "execution_count": null,
      "id": "167211a6",
      "metadata": {
        "execution": {
          "iopub.execute_input": "2023-03-16T16:52:41.932440Z",
          "iopub.status.busy": "2023-03-16T16:52:41.931223Z",
          "iopub.status.idle": "2023-03-16T16:52:41.954588Z",
          "shell.execute_reply": "2023-03-16T16:52:41.952814Z"
        },
        "papermill": {
          "duration": 0.036236,
          "end_time": "2023-03-16T16:52:41.957555",
          "exception": false,
          "start_time": "2023-03-16T16:52:41.921319",
          "status": "completed"
        },
        "tags": [],
        "colab": {
          "base_uri": "https://localhost:8080/"
        },
        "id": "167211a6",
        "outputId": "597dfb3b-c69b-4654-d0aa-c69202cb25af"
      },
      "outputs": [
        {
          "output_type": "stream",
          "name": "stdout",
          "text": [
            "<class 'pandas.core.frame.DataFrame'>\n",
            "RangeIndex: 782 entries, 0 to 781\n",
            "Data columns (total 19 columns):\n",
            " #   Column      Non-Null Count  Dtype  \n",
            "---  ------      --------------  -----  \n",
            " 0   title       782 non-null    object \n",
            " 1   magnitude   782 non-null    float64\n",
            " 2   date_time   782 non-null    object \n",
            " 3   cdi         782 non-null    int64  \n",
            " 4   mmi         782 non-null    int64  \n",
            " 5   alert       415 non-null    object \n",
            " 6   Earthquake  782 non-null    int64  \n",
            " 7   sig         782 non-null    int64  \n",
            " 8   net         782 non-null    object \n",
            " 9   nst         782 non-null    int64  \n",
            " 10  dmin        782 non-null    float64\n",
            " 11  gap         782 non-null    float64\n",
            " 12  magType     782 non-null    object \n",
            " 13  depth       782 non-null    float64\n",
            " 14  latitude    782 non-null    float64\n",
            " 15  longitude   782 non-null    float64\n",
            " 16  location    777 non-null    object \n",
            " 17  continent   206 non-null    object \n",
            " 18  country     484 non-null    object \n",
            "dtypes: float64(6), int64(5), object(8)\n",
            "memory usage: 116.2+ KB\n"
          ]
        }
      ],
      "source": [
        "df.info()"
      ]
    },
    {
      "cell_type": "code",
      "execution_count": null,
      "id": "60417f1d",
      "metadata": {
        "colab": {
          "base_uri": "https://localhost:8080/"
        },
        "id": "60417f1d",
        "outputId": "9293492e-3b11-4369-9f03-8d8105f79ead"
      },
      "outputs": [
        {
          "output_type": "execute_result",
          "data": {
            "text/plain": [
              "title           0\n",
              "magnitude       0\n",
              "date_time       0\n",
              "cdi             0\n",
              "mmi             0\n",
              "alert         367\n",
              "Earthquake      0\n",
              "sig             0\n",
              "net             0\n",
              "nst             0\n",
              "dmin            0\n",
              "gap             0\n",
              "magType         0\n",
              "depth           0\n",
              "latitude        0\n",
              "longitude       0\n",
              "location        5\n",
              "continent     576\n",
              "country       298\n",
              "dtype: int64"
            ]
          },
          "metadata": {},
          "execution_count": 7
        }
      ],
      "source": [
        "df.isna().sum()"
      ]
    },
    {
      "cell_type": "code",
      "execution_count": null,
      "id": "b1f7f597",
      "metadata": {
        "scrolled": false,
        "colab": {
          "base_uri": "https://localhost:8080/"
        },
        "id": "b1f7f597",
        "outputId": "943c8431-e9ff-4c26-b877-9cfa8ababc30"
      },
      "outputs": [
        {
          "output_type": "stream",
          "name": "stdout",
          "text": [
            "********** magnitude **********\n",
            "[7.   6.9  7.3  6.6  6.8  6.7  7.6  6.5  7.2  7.5  7.1  8.1  8.2  7.4\n",
            " 7.7  7.8  8.   7.9  8.3  8.6  9.1  8.8  8.4  8.16]\n",
            "********** cdi **********\n",
            "[8 4 3 5 0 1 7 9 2 6]\n",
            "********** mmi **********\n",
            "[7 4 3 5 2 6 8 9 1]\n",
            "********** alert **********\n",
            "['green' 'yellow' 'orange' 'red' nan]\n",
            "********** Earthquake **********\n",
            "[1 0]\n",
            "********** net **********\n",
            "['us' 'at' 'pt' 'ak' 'nn' 'ci' 'hv' 'nc' 'official' 'duputel' 'uw']\n",
            "********** magType **********\n",
            "['mww' 'mwb' 'Mi' 'ml' 'mw' 'mwc' 'ms' 'mb' 'md']\n",
            "********** continent **********\n",
            "['Oceania' nan 'North America' 'Asia' 'South America' 'Europe' 'Africa']\n",
            "********** country **********\n",
            "['Solomon Islands' nan 'Fiji' 'Panama' 'Mexico' 'Taiwan'\n",
            " 'Papua New Guinea' \"People's Republic of China\" 'Philippines' 'Brazil'\n",
            " 'Peru' 'Argentina' 'Indonesia' 'United States of America' 'Antarctica'\n",
            " 'Vanuatu' 'Haiti' 'Japan' 'Mongolia' 'Greece' 'Chile' 'Russia' 'Turkey'\n",
            " 'United Kingdom of Great Britain and Northern Ireland (the)' 'Ecuador'\n",
            " 'South Georgia and the South Sandwich Islands' 'Venezuela' 'Bolivia'\n",
            " 'Costa Rica' 'Iran' 'Guatemala' 'Botswana' 'New Zealand' 'Italy'\n",
            " 'Myanmar' 'Afghanistan' 'India' 'Tajikistan' 'Nepal' 'Nicaragua'\n",
            " 'Pakistan' 'Colombia' 'Canada' 'Tonga' 'Kyrgyzstan' 'Martinique'\n",
            " 'Mozambique' 'Tanzania' 'Algeria' 'El Salvador']\n"
          ]
        }
      ],
      "source": [
        "for val in df.columns:\n",
        "    if len(pd.unique(df[val]))<100:\n",
        "        print('*'*10,val,'*'*10)\n",
        "        print(pd.unique(df[val]))"
      ]
    },
    {
      "cell_type": "markdown",
      "id": "88624730",
      "metadata": {
        "papermill": {
          "duration": 0.00835,
          "end_time": "2023-03-16T16:52:41.975005",
          "exception": false,
          "start_time": "2023-03-16T16:52:41.966655",
          "status": "completed"
        },
        "tags": [],
        "id": "88624730"
      },
      "source": [
        "# Data Cleaning"
      ]
    },
    {
      "cell_type": "code",
      "execution_count": null,
      "id": "eee469f6",
      "metadata": {
        "id": "eee469f6"
      },
      "outputs": [],
      "source": [
        "def nullValues(df):\n",
        "    total=df.isnull().sum()\n",
        "    percent=df.isnull().sum()/df.isnull().count()*100\n",
        "    null_df=pd.concat([total,percent],axis=1,keys=[\"Total\",\"Percent\"])\n",
        "    null_df=null_df[null_df[\"Percent\"]>0]\n",
        "    null_df=null_df.sort_values(by=\"Percent\",ascending=False)\n",
        "    print(pd.DataFrame(null_df))\n",
        "    plt.figure(figsize=(16,10))\n",
        "    sns.barplot(x=null_df.index,y=null_df[\"Percent\"],color=\"g\")\n",
        "    plt.xticks(rotation=90)\n",
        "    plt.xlabel(\"Null_value_Column\")\n",
        "    plt.ylabel(\"Percent\")"
      ]
    },
    {
      "cell_type": "code",
      "execution_count": null,
      "id": "771576cd",
      "metadata": {
        "colab": {
          "base_uri": "https://localhost:8080/",
          "height": 859
        },
        "id": "771576cd",
        "outputId": "6191450c-1e37-421b-d946-80c33794d06d"
      },
      "outputs": [
        {
          "output_type": "stream",
          "name": "stdout",
          "text": [
            "           Total    Percent\n",
            "continent    576  73.657289\n",
            "alert        367  46.930946\n",
            "country      298  38.107417\n",
            "location       5   0.639386\n"
          ]
        },
        {
          "output_type": "display_data",
          "data": {
            "text/plain": [
              "<Figure size 1600x1000 with 1 Axes>"
            ],
            "image/png": "[encoded data removed]"
          },
          "metadata": {}
        }
      ],
      "source": [
        "nullValues(df)"
      ]
    },
    {
      "cell_type": "code",
      "execution_count": null,
      "id": "8539a405",
      "metadata": {
        "colab": {
          "base_uri": "https://localhost:8080/"
        },
        "id": "8539a405",
        "outputId": "eccb51c9-9edd-4d21-f841-fa7a2e8171e0"
      },
      "outputs": [
        {
          "output_type": "execute_result",
          "data": {
            "text/plain": [
              "Index(['title', 'magnitude', 'date_time', 'cdi', 'mmi', 'alert', 'Earthquake',\n",
              "       'sig', 'net', 'nst', 'dmin', 'gap', 'magType', 'depth', 'latitude',\n",
              "       'longitude', 'location', 'continent', 'country'],\n",
              "      dtype='object')"
            ]
          },
          "metadata": {},
          "execution_count": 11
        }
      ],
      "source": [
        "df.columns"
      ]
    },
    {
      "cell_type": "code",
      "execution_count": null,
      "id": "c3f9624f",
      "metadata": {
        "id": "c3f9624f"
      },
      "outputs": [],
      "source": [
        "# # Defining the columns #\n",
        "\n",
        "# CDI (Community Determined Intensity) is based on reports from individuals who felt the earthquake, and takes \n",
        "# into account the physical characteristics of the earthquake as well as the human experience of the earthquake.\n",
        "\n",
        "# MMI (Modified Mercalli Intensity) is also based on reports from individuals who felt the earthquake, and takes\n",
        "# into account a range of factors such as the strength of shaking, damage to buildings and infrastructure, and the\n",
        "# emotional response of people.\n",
        "\n",
        "# 'sig': short for 'magnitude significance', this is a measure of the relative strength of an earthquake event.\n",
        "# It is calculated based on the magnitude of the earthquake, the number of seismic stations reporting the event, \n",
        "# and the distance between the event and those stations.\n",
        "\n",
        "# 'net': short for 'seismic network', this refers to the network of seismometers and other seismic sensors used \n",
        "# to detect and record seismic events. Each seismic network has its own specific characteristics and capabilities, \n",
        "# which can affect the accuracy and completeness of earthquake detection and location.\n",
        "\n",
        "# 'nst': short for 'number of seismic stations', this is the number of seismic stations that detected and recorded \n",
        "# an earthquake event. The more seismic stations that detect an event, the more accurately its location and other \n",
        "# attributes can be determined.\n",
        "\n",
        "# 'dmin': short for 'minimum distance', this is the shortest distance between the earthquake event and the \n",
        "# nearest seismic station that detected it. This distance can affect the accuracy of the earthquake's location \n",
        "# and other attributes, as well as the strength of the seismic waves detected by the station.\n",
        "\n",
        "# 'gap' refers to the azimuthal gap between the seismic stations that record an earthquake. The azimuthal gap \n",
        "# is the angle between the two most widely spaced seismic stations recording the earthquake. A large gap can \n",
        "# indicate that important seismic data is missing, which can make it more difficult to accurately determine the \n",
        "# earthquake's location, magnitude, and other characteristics.\n",
        "\n",
        "# 'magType' refers to the type of magnitude calculation used to determine the size of the earthquake. There are \n",
        "# several different types of magnitude calculations, including Richter magnitude, moment magnitude, and surface \n",
        "# wave magnitude. Each type of magnitude calculation takes into account different aspects of the earthquake, such \n",
        "# as the amplitude of the seismic waves or the energy released by the earthquake. The choice of magnitude type can \n",
        "# affect the reported magnitude value and can also affect earthquake hazard assessments and emergency response planning.\n",
        "\n"
      ]
    },
    {
      "cell_type": "code",
      "execution_count": null,
      "id": "1c50cef4",
      "metadata": {
        "execution": {
          "iopub.execute_input": "2023-03-16T16:52:41.995010Z",
          "iopub.status.busy": "2023-03-16T16:52:41.994608Z",
          "iopub.status.idle": "2023-03-16T16:52:42.004257Z",
          "shell.execute_reply": "2023-03-16T16:52:42.002831Z"
        },
        "papermill": {
          "duration": 0.022565,
          "end_time": "2023-03-16T16:52:42.007175",
          "exception": false,
          "start_time": "2023-03-16T16:52:41.984610",
          "status": "completed"
        },
        "tags": [],
        "id": "1c50cef4"
      },
      "outputs": [],
      "source": [
        "features = [\"longitude\",\"latitude\", \"depth\", \"cdi\", \"mmi\", \"sig\",\"dmin\",\"nst\",\"gap\" ]\n",
        "target = \"alert\"\n",
        "\n",
        "df = df[features + [target]]"
      ]
    },
    {
      "cell_type": "code",
      "execution_count": null,
      "id": "5421fa99",
      "metadata": {
        "execution": {
          "iopub.execute_input": "2023-03-16T16:52:42.026309Z",
          "iopub.status.busy": "2023-03-16T16:52:42.025824Z",
          "iopub.status.idle": "2023-03-16T16:52:42.036411Z",
          "shell.execute_reply": "2023-03-16T16:52:42.035360Z"
        },
        "papermill": {
          "duration": 0.023095,
          "end_time": "2023-03-16T16:52:42.038877",
          "exception": false,
          "start_time": "2023-03-16T16:52:42.015782",
          "status": "completed"
        },
        "tags": [],
        "colab": {
          "base_uri": "https://localhost:8080/"
        },
        "id": "5421fa99",
        "outputId": "a3f13100-8acc-4390-dbb5-bb805cbcd10e"
      },
      "outputs": [
        {
          "output_type": "execute_result",
          "data": {
            "text/plain": [
              "longitude      0\n",
              "latitude       0\n",
              "depth          0\n",
              "cdi            0\n",
              "mmi            0\n",
              "sig            0\n",
              "dmin           0\n",
              "nst            0\n",
              "gap            0\n",
              "alert        367\n",
              "dtype: int64"
            ]
          },
          "metadata": {},
          "execution_count": 13
        }
      ],
      "source": [
        "df.isna().sum()"
      ]
    },
    {
      "cell_type": "code",
      "execution_count": null,
      "id": "f85b013a",
      "metadata": {
        "execution": {
          "iopub.execute_input": "2023-03-16T16:52:42.058477Z",
          "iopub.status.busy": "2023-03-16T16:52:42.058007Z",
          "iopub.status.idle": "2023-03-16T16:52:42.074015Z",
          "shell.execute_reply": "2023-03-16T16:52:42.072937Z"
        },
        "papermill": {
          "duration": 0.030103,
          "end_time": "2023-03-16T16:52:42.077670",
          "exception": false,
          "start_time": "2023-03-16T16:52:42.047567",
          "status": "completed"
        },
        "tags": [],
        "colab": {
          "base_uri": "https://localhost:8080/"
        },
        "id": "f85b013a",
        "outputId": "98dfadae-f47f-4495-d723-2d58928a74ff"
      },
      "outputs": [
        {
          "output_type": "stream",
          "name": "stdout",
          "text": [
            "<class 'pandas.core.frame.DataFrame'>\n",
            "Int64Index: 415 entries, 0 to 507\n",
            "Data columns (total 10 columns):\n",
            " #   Column     Non-Null Count  Dtype  \n",
            "---  ------     --------------  -----  \n",
            " 0   longitude  415 non-null    float64\n",
            " 1   latitude   415 non-null    float64\n",
            " 2   depth      415 non-null    float64\n",
            " 3   cdi        415 non-null    int64  \n",
            " 4   mmi        415 non-null    int64  \n",
            " 5   sig        415 non-null    int64  \n",
            " 6   dmin       415 non-null    float64\n",
            " 7   nst        415 non-null    int64  \n",
            " 8   gap        415 non-null    float64\n",
            " 9   alert      415 non-null    object \n",
            "dtypes: float64(5), int64(4), object(1)\n",
            "memory usage: 35.7+ KB\n"
          ]
        }
      ],
      "source": [
        "df.dropna(inplace=True)\n",
        "df.info()"
      ]
    },
    {
      "cell_type": "markdown",
      "id": "070e9137",
      "metadata": {
        "papermill": {
          "duration": 0.008534,
          "end_time": "2023-03-16T16:52:42.096342",
          "exception": false,
          "start_time": "2023-03-16T16:52:42.087808",
          "status": "completed"
        },
        "tags": [],
        "id": "070e9137"
      },
      "source": [
        "# Data Preprocessing\n",
        "---"
      ]
    },
    {
      "cell_type": "code",
      "execution_count": null,
      "id": "9fbf8da7",
      "metadata": {
        "colab": {
          "base_uri": "https://localhost:8080/"
        },
        "id": "9fbf8da7",
        "outputId": "6c6797cb-ede7-482c-8671-1dc744fe78ae"
      },
      "outputs": [
        {
          "output_type": "stream",
          "name": "stdout",
          "text": [
            "********** longitude **********\n",
            " 159.5960    1\n",
            " 167.3030    1\n",
            " 138.5280    1\n",
            " 158.0530    1\n",
            " 157.8770    1\n",
            "            ..\n",
            " 126.7580    1\n",
            " 166.8750    1\n",
            "-71.3815     1\n",
            " 42.3568     1\n",
            "-115.2950    1\n",
            "Name: longitude, Length: 415, dtype: int64\n",
            "********** latitude **********\n",
            "-9.7963     1\n",
            "-14.8595    1\n",
            "-2.6286     1\n",
            "-9.3438     1\n",
            "-9.3293     1\n",
            "           ..\n",
            " 2.2580     1\n",
            "-13.3360    1\n",
            "-30.0404    1\n",
            "-43.1219    1\n",
            " 32.2862    1\n",
            "Name: latitude, Length: 415, dtype: int64\n",
            "********** depth **********\n",
            "10.000     54\n",
            "20.000     17\n",
            "12.000     10\n",
            "35.000     10\n",
            "24.000     10\n",
            "           ..\n",
            "540.000     1\n",
            "461.000     1\n",
            "550.000     1\n",
            "576.000     1\n",
            "9.987       1\n",
            "Name: depth, Length: 213, dtype: int64\n",
            "********** cdi **********\n",
            "0    62\n",
            "8    59\n",
            "9    55\n",
            "5    54\n",
            "7    51\n",
            "6    47\n",
            "4    33\n",
            "3    28\n",
            "1    14\n",
            "2    12\n",
            "Name: cdi, dtype: int64\n",
            "********** mmi **********\n",
            "6    99\n",
            "7    92\n",
            "5    68\n",
            "4    65\n",
            "8    40\n",
            "3    34\n",
            "9    12\n",
            "2     4\n",
            "1     1\n",
            "Name: mmi, dtype: int64\n",
            "********** sig **********\n",
            "650     22\n",
            "670     16\n",
            "691     13\n",
            "776     11\n",
            "651     10\n",
            "        ..\n",
            "1145     1\n",
            "909      1\n",
            "1600     1\n",
            "803      1\n",
            "2048     1\n",
            "Name: sig, Length: 240, dtype: int64\n",
            "********** dmin **********\n",
            "0.00000    44\n",
            "0.28900     2\n",
            "2.70500     2\n",
            "1.77800     2\n",
            "1.50500     2\n",
            "           ..\n",
            "1.19300     1\n",
            "1.40200     1\n",
            "2.62900     1\n",
            "0.04616     1\n",
            "0.51370     1\n",
            "Name: dmin, Length: 363, dtype: int64\n",
            "********** nst **********\n",
            "0      354\n",
            "117      2\n",
            "131      2\n",
            "445      2\n",
            "531      1\n",
            "385      1\n",
            "626      1\n",
            "264      1\n",
            "548      1\n",
            "770      1\n",
            "506      1\n",
            "491      1\n",
            "640      1\n",
            "317      1\n",
            "480      1\n",
            "697      1\n",
            "515      1\n",
            "421      1\n",
            "562      1\n",
            "334      1\n",
            "400      1\n",
            "387      1\n",
            "550      1\n",
            "460      1\n",
            "686      1\n",
            "596      1\n",
            "751      1\n",
            "341      1\n",
            "499      1\n",
            "217      1\n",
            "111      1\n",
            "698      1\n",
            "99       1\n",
            "147      1\n",
            "149      1\n",
            "142      1\n",
            "136      1\n",
            "145      1\n",
            "175      1\n",
            "271      1\n",
            "215      1\n",
            "178      1\n",
            "192      1\n",
            "272      1\n",
            "141      1\n",
            "68       1\n",
            "152      1\n",
            "236      1\n",
            "144      1\n",
            "127      1\n",
            "162      1\n",
            "27       1\n",
            "77       1\n",
            "63       1\n",
            "112      1\n",
            "229      1\n",
            "398      1\n",
            "139      1\n",
            "10       1\n",
            "Name: nst, dtype: int64\n",
            "********** gap **********\n",
            "18.0     23\n",
            "16.0     21\n",
            "22.0     21\n",
            "17.0     18\n",
            "12.0     18\n",
            "         ..\n",
            "62.0      1\n",
            "123.0     1\n",
            "8.0       1\n",
            "51.0      1\n",
            "239.0     1\n",
            "Name: gap, Length: 88, dtype: int64\n",
            "********** alert **********\n",
            "green     325\n",
            "yellow     56\n",
            "orange     22\n",
            "red        12\n",
            "Name: alert, dtype: int64\n"
          ]
        }
      ],
      "source": [
        "for val in df.columns:\n",
        "    print('*'*10,val,'*'*10)\n",
        "    print(df[val].value_counts())"
      ]
    },
    {
      "cell_type": "markdown",
      "id": "08d834df",
      "metadata": {
        "papermill": {
          "duration": 0.008257,
          "end_time": "2023-03-16T16:52:42.174909",
          "exception": false,
          "start_time": "2023-03-16T16:52:42.166652",
          "status": "completed"
        },
        "tags": [],
        "id": "08d834df"
      },
      "source": [
        "## Balancing"
      ]
    },
    {
      "cell_type": "code",
      "execution_count": null,
      "id": "05c537b5",
      "metadata": {
        "execution": {
          "iopub.execute_input": "2023-03-16T16:52:42.194722Z",
          "iopub.status.busy": "2023-03-16T16:52:42.194296Z",
          "iopub.status.idle": "2023-03-16T16:52:42.509905Z",
          "shell.execute_reply": "2023-03-16T16:52:42.508929Z"
        },
        "papermill": {
          "duration": 0.32859,
          "end_time": "2023-03-16T16:52:42.512466",
          "exception": false,
          "start_time": "2023-03-16T16:52:42.183876",
          "status": "completed"
        },
        "tags": [],
        "colab": {
          "base_uri": "https://localhost:8080/",
          "height": 488
        },
        "id": "05c537b5",
        "outputId": "2d84af20-2bf1-4b45-bbff-dfb116529859"
      },
      "outputs": [
        {
          "output_type": "display_data",
          "data": {
            "text/plain": [
              "<Figure size 640x480 with 1 Axes>"
            ],
            "image/png": "[encoded data removed]"
          },
          "metadata": {}
        }
      ],
      "source": [
        "df[target].value_counts().plot(kind='bar', title='Count (target)', color=['green', 'yellow', 'orange', 'red']);"
      ]
    },
    {
      "cell_type": "code",
      "execution_count": null,
      "id": "92873152",
      "metadata": {
        "execution": {
          "iopub.execute_input": "2023-03-16T16:52:42.532994Z",
          "iopub.status.busy": "2023-03-16T16:52:42.532554Z",
          "iopub.status.idle": "2023-03-16T16:52:42.784627Z",
          "shell.execute_reply": "2023-03-16T16:52:42.783278Z"
        },
        "papermill": {
          "duration": 0.265403,
          "end_time": "2023-03-16T16:52:42.787309",
          "exception": false,
          "start_time": "2023-03-16T16:52:42.521906",
          "status": "completed"
        },
        "tags": [],
        "colab": {
          "base_uri": "https://localhost:8080/",
          "height": 488
        },
        "id": "92873152",
        "outputId": "e9e50230-4431-4b99-8619-acfa4480ba31"
      },
      "outputs": [
        {
          "output_type": "display_data",
          "data": {
            "text/plain": [
              "<Figure size 640x480 with 1 Axes>"
            ],
            "image/png": "[encoded data removed]"
          },
          "metadata": {}
        }
      ],
      "source": [
        "X = df[features]\n",
        "y = df[target]\n",
        "\n",
        "X = X.loc[:,~X.columns.duplicated()]\n",
        "\n",
        "\n",
        "sm = SMOTE(random_state=42)\n",
        "X_res, y_res= sm.fit_resample(X, y,)\n",
        "\n",
        "y_res.value_counts().plot(kind='bar', title='Count (target)', color=['green', 'orange', 'red', 'yellow']);"
      ]
    },
    {
      "cell_type": "markdown",
      "id": "71d2ea8b",
      "metadata": {
        "papermill": {
          "duration": 0.009219,
          "end_time": "2023-03-16T16:52:42.806405",
          "exception": false,
          "start_time": "2023-03-16T16:52:42.797186",
          "status": "completed"
        },
        "tags": [],
        "id": "71d2ea8b"
      },
      "source": [
        "## Splitting & Scaling"
      ]
    },
    {
      "cell_type": "code",
      "execution_count": null,
      "id": "4f86492b",
      "metadata": {
        "colab": {
          "base_uri": "https://localhost:8080/"
        },
        "id": "4f86492b",
        "outputId": "f988fc82-fe28-4d09-cf0a-093da6431b4a"
      },
      "outputs": [
        {
          "output_type": "execute_result",
          "data": {
            "text/plain": [
              "Index(['longitude', 'latitude', 'depth', 'cdi', 'mmi', 'sig', 'dmin', 'nst',\n",
              "       'gap'],\n",
              "      dtype='object')"
            ]
          },
          "metadata": {},
          "execution_count": 18
        }
      ],
      "source": [
        "X_res.columns"
      ]
    },
    {
      "cell_type": "code",
      "execution_count": null,
      "id": "cd579716",
      "metadata": {
        "colab": {
          "base_uri": "https://localhost:8080/",
          "height": 331
        },
        "id": "cd579716",
        "outputId": "9d3f88db-4083-4054-e9e4-a43ea20f4b8b"
      },
      "outputs": [
        {
          "output_type": "execute_result",
          "data": {
            "text/plain": [
              "                  0         1         2         3         4\n",
              "longitude  159.5960  100.7380 -178.3460 -172.1290  178.2780\n",
              "latitude    -9.7963   -4.9559  -20.0508  -19.2918  -25.5948\n",
              "depth       14.0000   25.0000  579.0000   37.0000  624.4640\n",
              "cdi          8.0000    4.0000    3.0000    5.0000    0.0000\n",
              "mmi          7.0000    4.0000    3.0000    5.0000    2.0000\n",
              "sig        768.0000  735.0000  755.0000  833.0000  670.0000\n",
              "dmin         0.5090    2.2290    3.1250    1.8650    4.9980\n",
              "nst        117.0000   99.0000  147.0000  149.0000  131.0000\n",
              "gap         17.0000   34.0000   18.0000   21.0000   27.0000"
            ],
            "text/html": [
              "\n",
              "  <div id=\"df-5fc7fedd-125d-4133-8247-e6061e66b3a8\">\n",
              "    <div class=\"colab-df-container\">\n",
              "      <div>\n",
              "<style scoped>\n",
              "    .dataframe tbody tr th:only-of-type {\n",
              "        vertical-align: middle;\n",
              "    }\n",
              "\n",
              "    .dataframe tbody tr th {\n",
              "        vertical-align: top;\n",
              "    }\n",
              "\n",
              "    .dataframe thead th {\n",
              "        text-align: right;\n",
              "    }\n",
              "</style>\n",
              "<table border=\"1\" class=\"dataframe\">\n",
              "  <thead>\n",
              "    <tr style=\"text-align: right;\">\n",
              "      <th></th>\n",
              "      <th>0</th>\n",
              "      <th>1</th>\n",
              "      <th>2</th>\n",
              "      <th>3</th>\n",
              "      <th>4</th>\n",
              "    </tr>\n",
              "  </thead>\n",
              "  <tbody>\n",
              "    <tr>\n",
              "      <th>longitude</th>\n",
              "      <td>159.5960</td>\n",
              "      <td>100.7380</td>\n",
              "      <td>-178.3460</td>\n",
              "      <td>-172.1290</td>\n",
              "      <td>178.2780</td>\n",
              "    </tr>\n",
              "    <tr>\n",
              "      <th>latitude</th>\n",
              "      <td>-9.7963</td>\n",
              "      <td>-4.9559</td>\n",
              "      <td>-20.0508</td>\n",
              "      <td>-19.2918</td>\n",
              "      <td>-25.5948</td>\n",
              "    </tr>\n",
              "    <tr>\n",
              "      <th>depth</th>\n",
              "      <td>14.0000</td>\n",
              "      <td>25.0000</td>\n",
              "      <td>579.0000</td>\n",
              "      <td>37.0000</td>\n",
              "      <td>624.4640</td>\n",
              "    </tr>\n",
              "    <tr>\n",
              "      <th>cdi</th>\n",
              "      <td>8.0000</td>\n",
              "      <td>4.0000</td>\n",
              "      <td>3.0000</td>\n",
              "      <td>5.0000</td>\n",
              "      <td>0.0000</td>\n",
              "    </tr>\n",
              "    <tr>\n",
              "      <th>mmi</th>\n",
              "      <td>7.0000</td>\n",
              "      <td>4.0000</td>\n",
              "      <td>3.0000</td>\n",
              "      <td>5.0000</td>\n",
              "      <td>2.0000</td>\n",
              "    </tr>\n",
              "    <tr>\n",
              "      <th>sig</th>\n",
              "      <td>768.0000</td>\n",
              "      <td>735.0000</td>\n",
              "      <td>755.0000</td>\n",
              "      <td>833.0000</td>\n",
              "      <td>670.0000</td>\n",
              "    </tr>\n",
              "    <tr>\n",
              "      <th>dmin</th>\n",
              "      <td>0.5090</td>\n",
              "      <td>2.2290</td>\n",
              "      <td>3.1250</td>\n",
              "      <td>1.8650</td>\n",
              "      <td>4.9980</td>\n",
              "    </tr>\n",
              "    <tr>\n",
              "      <th>nst</th>\n",
              "      <td>117.0000</td>\n",
              "      <td>99.0000</td>\n",
              "      <td>147.0000</td>\n",
              "      <td>149.0000</td>\n",
              "      <td>131.0000</td>\n",
              "    </tr>\n",
              "    <tr>\n",
              "      <th>gap</th>\n",
              "      <td>17.0000</td>\n",
              "      <td>34.0000</td>\n",
              "      <td>18.0000</td>\n",
              "      <td>21.0000</td>\n",
              "      <td>27.0000</td>\n",
              "    </tr>\n",
              "  </tbody>\n",
              "</table>\n",
              "</div>\n",
              "      <button class=\"colab-df-convert\" onclick=\"convertToInteractive('df-5fc7fedd-125d-4133-8247-e6061e66b3a8')\"\n",
              "              title=\"Convert this dataframe to an interactive table.\"\n",
              "              style=\"display:none;\">\n",
              "        \n",
              "  <svg xmlns=\"http://www.w3.org/2000/svg\" height=\"24px\"viewBox=\"0 0 24 24\"\n",
              "       width=\"24px\">\n",
              "    <path d=\"M0 0h24v24H0V0z\" fill=\"none\"/>\n",
              "    <path d=\"M18.56 5.44l.94 2.06.94-2.06 2.06-.94-2.06-.94-.94-2.06-.94 2.06-2.06.94zm-11 1L8.5 8.5l.94-2.06 2.06-.94-2.06-.94L8.5 2.5l-.94 2.06-2.06.94zm10 10l.94 2.06.94-2.06 2.06-.94-2.06-.94-.94-2.06-.94 2.06-2.06.94z\"/><path d=\"M17.41 7.96l-1.37-1.37c-.4-.4-.92-.59-1.43-.59-.52 0-1.04.2-1.43.59L10.3 9.45l-7.72 7.72c-.78.78-.78 2.05 0 2.83L4 21.41c.39.39.9.59 1.41.59.51 0 1.02-.2 1.41-.59l7.78-7.78 2.81-2.81c.8-.78.8-2.07 0-2.86zM5.41 20L4 18.59l7.72-7.72 1.47 1.35L5.41 20z\"/>\n",
              "  </svg>\n",
              "      </button>\n",
              "      \n",
              "  <style>\n",
              "    .colab-df-container {\n",
              "      display:flex;\n",
              "      flex-wrap:wrap;\n",
              "      gap: 12px;\n",
              "    }\n",
              "\n",
              "    .colab-df-convert {\n",
              "      background-color: #E8F0FE;\n",
              "      border: none;\n",
              "      border-radius: 50%;\n",
              "      cursor: pointer;\n",
              "      display: none;\n",
              "      fill: #1967D2;\n",
              "      height: 32px;\n",
              "      padding: 0 0 0 0;\n",
              "      width: 32px;\n",
              "    }\n",
              "\n",
              "    .colab-df-convert:hover {\n",
              "      background-color: #E2EBFA;\n",
              "      box-shadow: 0px 1px 2px rgba(60, 64, 67, 0.3), 0px 1px 3px 1px rgba(60, 64, 67, 0.15);\n",
              "      fill: #174EA6;\n",
              "    }\n",
              "\n",
              "    [theme=dark] .colab-df-convert {\n",
              "      background-color: #3B4455;\n",
              "      fill: #D2E3FC;\n",
              "    }\n",
              "\n",
              "    [theme=dark] .colab-df-convert:hover {\n",
              "      background-color: #434B5C;\n",
              "      box-shadow: 0px 1px 3px 1px rgba(0, 0, 0, 0.15);\n",
              "      filter: drop-shadow(0px 1px 2px rgba(0, 0, 0, 0.3));\n",
              "      fill: #FFFFFF;\n",
              "    }\n",
              "  </style>\n",
              "\n",
              "      <script>\n",
              "        const buttonEl =\n",
              "          document.querySelector('#df-5fc7fedd-125d-4133-8247-e6061e66b3a8 button.colab-df-convert');\n",
              "        buttonEl.style.display =\n",
              "          google.colab.kernel.accessAllowed ? 'block' : 'none';\n",
              "\n",
              "        async function convertToInteractive(key) {\n",
              "          const element = document.querySelector('#df-5fc7fedd-125d-4133-8247-e6061e66b3a8');\n",
              "          const dataTable =\n",
              "            await google.colab.kernel.invokeFunction('convertToInteractive',\n",
              "                                                     [key], {});\n",
              "          if (!dataTable) return;\n",
              "\n",
              "          const docLinkHtml = 'Like what you see? Visit the ' +\n",
              "            '<a target=\"_blank\" href=https://colab.research.google.com/notebooks/data_table.ipynb>data table notebook</a>'\n",
              "            + ' to learn more about interactive tables.';\n",
              "          element.innerHTML = '';\n",
              "          dataTable['output_type'] = 'display_data';\n",
              "          await google.colab.output.renderOutput(dataTable, element);\n",
              "          const docLink = document.createElement('div');\n",
              "          docLink.innerHTML = docLinkHtml;\n",
              "          element.appendChild(docLink);\n",
              "        }\n",
              "      </script>\n",
              "    </div>\n",
              "  </div>\n",
              "  "
            ]
          },
          "metadata": {},
          "execution_count": 19
        }
      ],
      "source": [
        "X_res.head(5).T"
      ]
    },
    {
      "cell_type": "code",
      "execution_count": null,
      "id": "4441fa5d",
      "metadata": {
        "execution": {
          "iopub.execute_input": "2023-03-16T16:52:42.827344Z",
          "iopub.status.busy": "2023-03-16T16:52:42.826889Z",
          "iopub.status.idle": "2023-03-16T16:52:42.836083Z",
          "shell.execute_reply": "2023-03-16T16:52:42.834915Z"
        },
        "papermill": {
          "duration": 0.022681,
          "end_time": "2023-03-16T16:52:42.838469",
          "exception": false,
          "start_time": "2023-03-16T16:52:42.815788",
          "status": "completed"
        },
        "tags": [],
        "id": "4441fa5d"
      },
      "outputs": [],
      "source": [
        "X_train, X_test, y_train, y_test = train_test_split(X_res, y_res, test_size=0.2, random_state=42)\n"
      ]
    },
    {
      "cell_type": "code",
      "execution_count": null,
      "id": "fae28f26",
      "metadata": {
        "execution": {
          "iopub.execute_input": "2023-03-16T16:52:42.859526Z",
          "iopub.status.busy": "2023-03-16T16:52:42.859080Z",
          "iopub.status.idle": "2023-03-16T16:52:42.871007Z",
          "shell.execute_reply": "2023-03-16T16:52:42.869749Z"
        },
        "papermill": {
          "duration": 0.025818,
          "end_time": "2023-03-16T16:52:42.873734",
          "exception": false,
          "start_time": "2023-03-16T16:52:42.847916",
          "status": "completed"
        },
        "tags": [],
        "id": "fae28f26"
      },
      "outputs": [],
      "source": [
        "scaler = StandardScaler()\n",
        "X_train = scaler.fit_transform(X_train)\n",
        "X_test = scaler.transform(X_test)"
      ]
    },
    {
      "cell_type": "markdown",
      "id": "933308ab",
      "metadata": {
        "papermill": {
          "duration": 0.009101,
          "end_time": "2023-03-16T16:52:42.892508",
          "exception": false,
          "start_time": "2023-03-16T16:52:42.883407",
          "status": "completed"
        },
        "tags": [],
        "id": "933308ab"
      },
      "source": [
        "# Exploratory Analysis\n",
        "---"
      ]
    },
    {
      "cell_type": "code",
      "execution_count": null,
      "id": "b2c3bba8",
      "metadata": {
        "colab": {
          "base_uri": "https://localhost:8080/",
          "height": 451
        },
        "id": "b2c3bba8",
        "outputId": "6d3ee63d-3ec9-4c27-ea30-86a349e1ece7"
      },
      "outputs": [
        {
          "output_type": "execute_result",
          "data": {
            "text/plain": [
              "Text(0.5, 1.0, 'MMI')"
            ]
          },
          "metadata": {},
          "execution_count": 22
        },
        {
          "output_type": "display_data",
          "data": {
            "text/plain": [
              "<Figure size 1800x600 with 3 Axes>"
            ],
            "image/png": "[encoded data removed]"
          },
          "metadata": {}
        }
      ],
      "source": [
        "fig, axes = plt.subplots(1, 3, figsize=(18, 6), dpi=100)\n",
        "\n",
        "sns.histplot(data = df1, x = 'magnitude', ax=axes[0])\n",
        "axes[0].set_title(\"Magnitude\")\n",
        "\n",
        "sns.histplot(data = df1, x = 'nst', ax=axes[1])\n",
        "axes[1].set_title(\"NST\")\n",
        "\n",
        "sns.histplot(data = df1, x = 'mmi', ax=axes[2])\n",
        "axes[2].set_title(\"MMI\")"
      ]
    },
    {
      "cell_type": "code",
      "execution_count": null,
      "id": "c860b5a7",
      "metadata": {
        "colab": {
          "base_uri": "https://localhost:8080/",
          "height": 448
        },
        "id": "c860b5a7",
        "outputId": "d02e455a-4dd2-4316-dea4-e931dbb7191c"
      },
      "outputs": [
        {
          "output_type": "execute_result",
          "data": {
            "text/plain": [
              "Text(0.5, 1.0, 'Depth')"
            ]
          },
          "metadata": {},
          "execution_count": 23
        },
        {
          "output_type": "display_data",
          "data": {
            "text/plain": [
              "<Figure size 1800x600 with 2 Axes>"
            ],
            "image/png": "[encoded data removed]"
          },
          "metadata": {}
        }
      ],
      "source": [
        "fig, axes = plt.subplots(1, 2, figsize=(18, 6), dpi=100)\n",
        "\n",
        "sns.histplot(data = df1, x = 'sig', ax=axes[0])\n",
        "axes[0].set_title(\"SIG\")\n",
        "\n",
        "sns.histplot(data = df1, x = 'depth', ax=axes[1])\n",
        "axes[1].set_title(\"Depth\")"
      ]
    },
    {
      "cell_type": "code",
      "execution_count": null,
      "id": "b942631e",
      "metadata": {
        "execution": {
          "iopub.execute_input": "2023-03-16T16:52:42.914021Z",
          "iopub.status.busy": "2023-03-16T16:52:42.913573Z",
          "iopub.status.idle": "2023-03-16T16:52:43.143025Z",
          "shell.execute_reply": "2023-03-16T16:52:43.141750Z"
        },
        "papermill": {
          "duration": 0.24367,
          "end_time": "2023-03-16T16:52:43.145814",
          "exception": false,
          "start_time": "2023-03-16T16:52:42.902144",
          "status": "completed"
        },
        "tags": [],
        "colab": {
          "base_uri": "https://localhost:8080/",
          "height": 477
        },
        "id": "b942631e",
        "outputId": "6a9ce6e4-2226-44b0-ea6e-416d22610b89"
      },
      "outputs": [
        {
          "output_type": "display_data",
          "data": {
            "text/plain": [
              "<Figure size 640x480 with 1 Axes>"
            ],
            "image/png": "[encoded data removed]"
          },
          "metadata": {}
        }
      ],
      "source": [
        "plt.plot(X_train[:, 0], X_train[:, 1], 'o', alpha=0.5)\n",
        "plt.xlabel('magnitude')\n",
        "plt.ylabel('depth')\n",
        "plt.title('magnitude vs depth');\n",
        "plt.show()\n"
      ]
    },
    {
      "cell_type": "code",
      "execution_count": null,
      "id": "a8f574f2",
      "metadata": {
        "execution": {
          "iopub.execute_input": "2023-03-16T16:52:43.169391Z",
          "iopub.status.busy": "2023-03-16T16:52:43.168906Z",
          "iopub.status.idle": "2023-03-16T16:52:43.635197Z",
          "shell.execute_reply": "2023-03-16T16:52:43.633633Z"
        },
        "papermill": {
          "duration": 0.481247,
          "end_time": "2023-03-16T16:52:43.638279",
          "exception": false,
          "start_time": "2023-03-16T16:52:43.157032",
          "status": "completed"
        },
        "tags": [],
        "colab": {
          "base_uri": "https://localhost:8080/",
          "height": 504
        },
        "id": "a8f574f2",
        "outputId": "e18b851a-150b-49b0-837e-588137f68197"
      },
      "outputs": [
        {
          "output_type": "execute_result",
          "data": {
            "text/plain": [
              "<Axes: >"
            ]
          },
          "metadata": {},
          "execution_count": 25
        },
        {
          "output_type": "display_data",
          "data": {
            "text/plain": [
              "<Figure size 640x480 with 2 Axes>"
            ],
            "image/png": "[encoded data removed]"
          },
          "metadata": {}
        }
      ],
      "source": [
        "sns.heatmap(df.corr(), annot=True, fmt=\".2f\")\n"
      ]
    },
    {
      "cell_type": "markdown",
      "id": "88417e6d",
      "metadata": {
        "papermill": {
          "duration": 0.011004,
          "end_time": "2023-03-16T16:52:43.661772",
          "exception": false,
          "start_time": "2023-03-16T16:52:43.650768",
          "status": "completed"
        },
        "tags": [],
        "id": "88417e6d"
      },
      "source": [
        "# Modelling\n",
        "---"
      ]
    },
    {
      "cell_type": "code",
      "execution_count": null,
      "id": "9e02392a",
      "metadata": {
        "execution": {
          "iopub.execute_input": "2023-03-16T16:52:43.687102Z",
          "iopub.status.busy": "2023-03-16T16:52:43.686681Z",
          "iopub.status.idle": "2023-03-16T16:52:43.692315Z",
          "shell.execute_reply": "2023-03-16T16:52:43.690525Z"
        },
        "papermill": {
          "duration": 0.021699,
          "end_time": "2023-03-16T16:52:43.695186",
          "exception": false,
          "start_time": "2023-03-16T16:52:43.673487",
          "status": "completed"
        },
        "tags": [],
        "id": "9e02392a"
      },
      "outputs": [],
      "source": [
        "models = []"
      ]
    },
    {
      "cell_type": "code",
      "execution_count": null,
      "id": "80d8d452",
      "metadata": {
        "execution": {
          "iopub.execute_input": "2023-03-16T16:52:43.722084Z",
          "iopub.status.busy": "2023-03-16T16:52:43.721634Z",
          "iopub.status.idle": "2023-03-16T16:52:43.733118Z",
          "shell.execute_reply": "2023-03-16T16:52:43.731834Z"
        },
        "papermill": {
          "duration": 0.028706,
          "end_time": "2023-03-16T16:52:43.736146",
          "exception": false,
          "start_time": "2023-03-16T16:52:43.707440",
          "status": "completed"
        },
        "tags": [],
        "id": "80d8d452"
      },
      "outputs": [],
      "source": [
        "dt = DecisionTreeClassifier(random_state=42)\n",
        "dt.fit(X_train, y_train)\n",
        "models.append(dt)"
      ]
    },
    {
      "cell_type": "code",
      "execution_count": null,
      "id": "30bf362a",
      "metadata": {
        "execution": {
          "iopub.execute_input": "2023-03-16T16:52:43.824266Z",
          "iopub.status.busy": "2023-03-16T16:52:43.823058Z",
          "iopub.status.idle": "2023-03-16T16:52:43.831909Z",
          "shell.execute_reply": "2023-03-16T16:52:43.830865Z"
        },
        "papermill": {
          "duration": 0.023796,
          "end_time": "2023-03-16T16:52:43.834388",
          "exception": false,
          "start_time": "2023-03-16T16:52:43.810592",
          "status": "completed"
        },
        "tags": [],
        "id": "30bf362a"
      },
      "outputs": [],
      "source": [
        "knn = KNeighborsClassifier()\n",
        "knn.fit(X_train, y_train)\n",
        "models.append(knn)"
      ]
    },
    {
      "cell_type": "code",
      "execution_count": null,
      "id": "bc83273c",
      "metadata": {
        "execution": {
          "iopub.execute_input": "2023-03-16T16:52:44.991245Z",
          "iopub.status.busy": "2023-03-16T16:52:44.990715Z",
          "iopub.status.idle": "2023-03-16T16:52:45.032747Z",
          "shell.execute_reply": "2023-03-16T16:52:45.031787Z"
        },
        "papermill": {
          "duration": 0.058118,
          "end_time": "2023-03-16T16:52:45.035632",
          "exception": false,
          "start_time": "2023-03-16T16:52:44.977514",
          "status": "completed"
        },
        "tags": [],
        "id": "bc83273c"
      },
      "outputs": [],
      "source": [
        "svm = SVC(random_state=42)\n",
        "svm.fit(X_train, y_train)\n",
        "models.append(svm)"
      ]
    },
    {
      "cell_type": "code",
      "execution_count": null,
      "id": "93290867",
      "metadata": {
        "execution": {
          "iopub.execute_input": "2023-03-16T16:52:45.061082Z",
          "iopub.status.busy": "2023-03-16T16:52:45.059814Z",
          "iopub.status.idle": "2023-03-16T16:52:45.315367Z",
          "shell.execute_reply": "2023-03-16T16:52:45.314018Z"
        },
        "papermill": {
          "duration": 0.271576,
          "end_time": "2023-03-16T16:52:45.318381",
          "exception": false,
          "start_time": "2023-03-16T16:52:45.046805",
          "status": "completed"
        },
        "tags": [],
        "id": "93290867"
      },
      "outputs": [],
      "source": [
        "rf = RandomForestClassifier(random_state=42)\n",
        "rf.fit(X_train, y_train)\n",
        "models.append(rf)"
      ]
    },
    {
      "cell_type": "code",
      "execution_count": null,
      "id": "2941ce46",
      "metadata": {
        "colab": {
          "base_uri": "https://localhost:8080/"
        },
        "id": "2941ce46",
        "outputId": "bc437aea-711a-4c89-957b-79086b6e2172"
      },
      "outputs": [
        {
          "output_type": "stream",
          "name": "stdout",
          "text": [
            "[DecisionTreeClassifier(random_state=42), KNeighborsClassifier(), SVC(random_state=42), RandomForestClassifier(random_state=42)]\n"
          ]
        }
      ],
      "source": [
        "print(models)"
      ]
    },
    {
      "cell_type": "code",
      "execution_count": null,
      "id": "e1012354",
      "metadata": {
        "colab": {
          "base_uri": "https://localhost:8080/"
        },
        "id": "e1012354",
        "outputId": "f105ec7b-54ed-4252-b08e-831cccebe2d4"
      },
      "outputs": [
        {
          "output_type": "execute_result",
          "data": {
            "text/plain": [
              "(1040, 9)"
            ]
          },
          "metadata": {},
          "execution_count": 32
        }
      ],
      "source": [
        "X_train.shape"
      ]
    },
    {
      "cell_type": "markdown",
      "id": "2a00a827",
      "metadata": {
        "papermill": {
          "duration": 0.011274,
          "end_time": "2023-03-16T16:52:46.130614",
          "exception": false,
          "start_time": "2023-03-16T16:52:46.119340",
          "status": "completed"
        },
        "tags": [],
        "id": "2a00a827"
      },
      "source": [
        "## Evaluation of Models"
      ]
    },
    {
      "cell_type": "code",
      "execution_count": null,
      "id": "5fb06e5d",
      "metadata": {
        "execution": {
          "iopub.execute_input": "2023-03-16T16:52:46.155858Z",
          "iopub.status.busy": "2023-03-16T16:52:46.155389Z",
          "iopub.status.idle": "2023-03-16T16:52:46.223491Z",
          "shell.execute_reply": "2023-03-16T16:52:46.222070Z"
        },
        "papermill": {
          "duration": 0.084077,
          "end_time": "2023-03-16T16:52:46.226438",
          "exception": false,
          "start_time": "2023-03-16T16:52:46.142361",
          "status": "completed"
        },
        "tags": [],
        "id": "5fb06e5d"
      },
      "outputs": [],
      "source": [
        "Name=[type(model).__name__ for model in models]\n",
        "accuracy = [accuracy_score(y_test, model.predict(X_test)) for model in models]\n",
        "precision = [precision_score(y_test, model.predict(X_test), average='weighted') for model in models]\n",
        "recall = [recall_score(y_test, model.predict(X_test), average='weighted') for model in models]\n",
        "f1_scores = [f1_score(y_test, model.predict(X_test), average='weighted') for model in models]"
      ]
    },
    {
      "cell_type": "code",
      "execution_count": null,
      "id": "39901aa9",
      "metadata": {
        "colab": {
          "base_uri": "https://localhost:8080/",
          "height": 175
        },
        "id": "39901aa9",
        "outputId": "93811c62-63fe-4c32-b2be-70c938fc108a"
      },
      "outputs": [
        {
          "output_type": "execute_result",
          "data": {
            "text/plain": [
              "                     Name  Accuracy  Precision_score  Recall_score  F1_score\n",
              "0  DecisionTreeClassifier  0.942308         0.941710      0.942308  0.941875\n",
              "1    KNeighborsClassifier  0.923077         0.934314      0.923077  0.923851\n",
              "2                     SVC  0.930769         0.945339      0.930769  0.932321\n",
              "3  RandomForestClassifier  0.976923         0.977345      0.976923  0.976927"
            ],
            "text/html": [
              "\n",
              "  <div id=\"df-f17ccd5a-101b-42a3-9d80-96f83c64f374\">\n",
              "    <div class=\"colab-df-container\">\n",
              "      <div>\n",
              "<style scoped>\n",
              "    .dataframe tbody tr th:only-of-type {\n",
              "        vertical-align: middle;\n",
              "    }\n",
              "\n",
              "    .dataframe tbody tr th {\n",
              "        vertical-align: top;\n",
              "    }\n",
              "\n",
              "    .dataframe thead th {\n",
              "        text-align: right;\n",
              "    }\n",
              "</style>\n",
              "<table border=\"1\" class=\"dataframe\">\n",
              "  <thead>\n",
              "    <tr style=\"text-align: right;\">\n",
              "      <th></th>\n",
              "      <th>Name</th>\n",
              "      <th>Accuracy</th>\n",
              "      <th>Precision_score</th>\n",
              "      <th>Recall_score</th>\n",
              "      <th>F1_score</th>\n",
              "    </tr>\n",
              "  </thead>\n",
              "  <tbody>\n",
              "    <tr>\n",
              "      <th>0</th>\n",
              "      <td>DecisionTreeClassifier</td>\n",
              "      <td>0.942308</td>\n",
              "      <td>0.941710</td>\n",
              "      <td>0.942308</td>\n",
              "      <td>0.941875</td>\n",
              "    </tr>\n",
              "    <tr>\n",
              "      <th>1</th>\n",
              "      <td>KNeighborsClassifier</td>\n",
              "      <td>0.923077</td>\n",
              "      <td>0.934314</td>\n",
              "      <td>0.923077</td>\n",
              "      <td>0.923851</td>\n",
              "    </tr>\n",
              "    <tr>\n",
              "      <th>2</th>\n",
              "      <td>SVC</td>\n",
              "      <td>0.930769</td>\n",
              "      <td>0.945339</td>\n",
              "      <td>0.930769</td>\n",
              "      <td>0.932321</td>\n",
              "    </tr>\n",
              "    <tr>\n",
              "      <th>3</th>\n",
              "      <td>RandomForestClassifier</td>\n",
              "      <td>0.976923</td>\n",
              "      <td>0.977345</td>\n",
              "      <td>0.976923</td>\n",
              "      <td>0.976927</td>\n",
              "    </tr>\n",
              "  </tbody>\n",
              "</table>\n",
              "</div>\n",
              "      <button class=\"colab-df-convert\" onclick=\"convertToInteractive('df-f17ccd5a-101b-42a3-9d80-96f83c64f374')\"\n",
              "              title=\"Convert this dataframe to an interactive table.\"\n",
              "              style=\"display:none;\">\n",
              "        \n",
              "  <svg xmlns=\"http://www.w3.org/2000/svg\" height=\"24px\"viewBox=\"0 0 24 24\"\n",
              "       width=\"24px\">\n",
              "    <path d=\"M0 0h24v24H0V0z\" fill=\"none\"/>\n",
              "    <path d=\"M18.56 5.44l.94 2.06.94-2.06 2.06-.94-2.06-.94-.94-2.06-.94 2.06-2.06.94zm-11 1L8.5 8.5l.94-2.06 2.06-.94-2.06-.94L8.5 2.5l-.94 2.06-2.06.94zm10 10l.94 2.06.94-2.06 2.06-.94-2.06-.94-.94-2.06-.94 2.06-2.06.94z\"/><path d=\"M17.41 7.96l-1.37-1.37c-.4-.4-.92-.59-1.43-.59-.52 0-1.04.2-1.43.59L10.3 9.45l-7.72 7.72c-.78.78-.78 2.05 0 2.83L4 21.41c.39.39.9.59 1.41.59.51 0 1.02-.2 1.41-.59l7.78-7.78 2.81-2.81c.8-.78.8-2.07 0-2.86zM5.41 20L4 18.59l7.72-7.72 1.47 1.35L5.41 20z\"/>\n",
              "  </svg>\n",
              "      </button>\n",
              "      \n",
              "  <style>\n",
              "    .colab-df-container {\n",
              "      display:flex;\n",
              "      flex-wrap:wrap;\n",
              "      gap: 12px;\n",
              "    }\n",
              "\n",
              "    .colab-df-convert {\n",
              "      background-color: #E8F0FE;\n",
              "      border: none;\n",
              "      border-radius: 50%;\n",
              "      cursor: pointer;\n",
              "      display: none;\n",
              "      fill: #1967D2;\n",
              "      height: 32px;\n",
              "      padding: 0 0 0 0;\n",
              "      width: 32px;\n",
              "    }\n",
              "\n",
              "    .colab-df-convert:hover {\n",
              "      background-color: #E2EBFA;\n",
              "      box-shadow: 0px 1px 2px rgba(60, 64, 67, 0.3), 0px 1px 3px 1px rgba(60, 64, 67, 0.15);\n",
              "      fill: #174EA6;\n",
              "    }\n",
              "\n",
              "    [theme=dark] .colab-df-convert {\n",
              "      background-color: #3B4455;\n",
              "      fill: #D2E3FC;\n",
              "    }\n",
              "\n",
              "    [theme=dark] .colab-df-convert:hover {\n",
              "      background-color: #434B5C;\n",
              "      box-shadow: 0px 1px 3px 1px rgba(0, 0, 0, 0.15);\n",
              "      filter: drop-shadow(0px 1px 2px rgba(0, 0, 0, 0.3));\n",
              "      fill: #FFFFFF;\n",
              "    }\n",
              "  </style>\n",
              "\n",
              "      <script>\n",
              "        const buttonEl =\n",
              "          document.querySelector('#df-f17ccd5a-101b-42a3-9d80-96f83c64f374 button.colab-df-convert');\n",
              "        buttonEl.style.display =\n",
              "          google.colab.kernel.accessAllowed ? 'block' : 'none';\n",
              "\n",
              "        async function convertToInteractive(key) {\n",
              "          const element = document.querySelector('#df-f17ccd5a-101b-42a3-9d80-96f83c64f374');\n",
              "          const dataTable =\n",
              "            await google.colab.kernel.invokeFunction('convertToInteractive',\n",
              "                                                     [key], {});\n",
              "          if (!dataTable) return;\n",
              "\n",
              "          const docLinkHtml = 'Like what you see? Visit the ' +\n",
              "            '<a target=\"_blank\" href=https://colab.research.google.com/notebooks/data_table.ipynb>data table notebook</a>'\n",
              "            + ' to learn more about interactive tables.';\n",
              "          element.innerHTML = '';\n",
              "          dataTable['output_type'] = 'display_data';\n",
              "          await google.colab.output.renderOutput(dataTable, element);\n",
              "          const docLink = document.createElement('div');\n",
              "          docLink.innerHTML = docLinkHtml;\n",
              "          element.appendChild(docLink);\n",
              "        }\n",
              "      </script>\n",
              "    </div>\n",
              "  </div>\n",
              "  "
            ]
          },
          "metadata": {},
          "execution_count": 34
        }
      ],
      "source": [
        "Dict = {'Name':Name,'Accuracy':accuracy,'Precision_score':precision,'Recall_score':recall,'F1_score':f1_scores}\n",
        "model_df = pd.DataFrame(Dict)\n",
        "model_df"
      ]
    },
    {
      "cell_type": "code",
      "execution_count": null,
      "id": "9bde2fd8",
      "metadata": {
        "id": "9bde2fd8",
        "outputId": "27386696-5ee9-4edb-f1e7-528b8bf738c7",
        "colab": {
          "base_uri": "https://localhost:8080/",
          "height": 597
        }
      },
      "outputs": [
        {
          "output_type": "display_data",
          "data": {
            "text/plain": [
              "<Figure size 2000x1000 with 1 Axes>"
            ],
            "image/png": "[encoded data removed]"
          },
          "metadata": {}
        }
      ],
      "source": [
        "import numpy as np\n",
        "plt.figure(figsize=(20, 10))  # specify figure size\n",
        "coampany=Name\n",
        "xpos =np.arange(len(coampany))\n",
        "\n",
        "\n",
        "plt.bar(xpos+0., accuracy, width=0.2, label=\"Accuracy\") \n",
        "plt.bar(xpos+0.2, precision, width=0.2, label=\"precision\")\n",
        "plt.bar(xpos+0.4, recall, width=0.2, label=\"Recall\")\n",
        "plt.bar(xpos+0.6, f1_scores, width=0.2, label=\"F1_score\")\n",
        "\n",
        "plt.xticks(xpos, rotation=80)\n",
        "plt.xlabel(\"Algorithms\")\n",
        "plt.axhline(max(precision), color='r', linestyle='--')\n",
        "plt.legend()\n",
        "plt.show()"
      ]
    },
    {
      "cell_type": "code",
      "source": [
        "import numpy as np\n",
        "import matplotlib.pyplot as plt\n",
        "\n",
        "algorithm_names = ['DecisionTreeClassifier', 'KNeighborsClassifier', 'SVM', 'RandomForestClassifier']\n",
        "xpos = np.arange(len(algorithm_names))\n",
        "\n",
        "\n",
        "colors = ['#5cb85c', '#5bc0de', '#f0ad4e', '#d9534f']  # specify colors for each bar\n",
        "\n",
        "fig, ax = plt.subplots(figsize=(12, 6))\n",
        "\n",
        "ax.bar(xpos, accuracy, width=0.2, label=\"Accuracy\", color=colors[0])\n",
        "ax.bar(xpos + 0.2, precision, width=0.2, label=\"Precision\", color=colors[1])\n",
        "ax.bar(xpos + 0.4, recall, width=0.2, label=\"Recall\", color=colors[2])\n",
        "ax.bar(xpos + 0.6, f1_scores, width=0.2, label=\"F1 Score\", color=colors[3])\n",
        "\n",
        "ax.set_xticks(xpos)\n",
        "ax.set_xticklabels(algorithm_names, rotation=45)\n",
        "ax.set_xlabel(\"Algorithms\")\n",
        "ax.set_ylabel(\"Scores\")\n",
        "ax.set_ylim([0, 1])\n",
        "ax.axhline(max(precision), color='r', linestyle='--')\n",
        "ax.legend()\n",
        "\n",
        "plt.show()"
      ],
      "metadata": {
        "colab": {
          "base_uri": "https://localhost:8080/",
          "height": 663
        },
        "id": "TuAhXeiV27WL",
        "outputId": "5baf9fe7-9931-4ccd-d906-1cae3058f875"
      },
      "id": "TuAhXeiV27WL",
      "execution_count": null,
      "outputs": [
        {
          "output_type": "display_data",
          "data": {
            "text/plain": [
              "<Figure size 1200x600 with 1 Axes>"
            ],
            "image/png": "[encoded data removed]"
          },
          "metadata": {}
        }
      ]
    },
    {
      "cell_type": "code",
      "source": [
        "from sklearn.metrics import confusion_matrix,ConfusionMatrixDisplay\n",
        "from sklearn.metrics import classification_report,confusion_matrix\n",
        "from  mlxtend.plotting import plot_confusion_matrix\n",
        "from matplotlib.colors import ListedColormap\n",
        "from sklearn import metrics"
      ],
      "metadata": {
        "id": "q9f-FyRY4LPw"
      },
      "id": "q9f-FyRY4LPw",
      "execution_count": null,
      "outputs": []
    },
    {
      "cell_type": "code",
      "source": [
        "#DecisionTreeClassifier\n",
        "dty_pred = dt.predict(X_test)\n",
        "# Obtain the confusion matrix\n",
        "cm = metrics.confusion_matrix(y_test, dty_pred)\n",
        "\n",
        "\n",
        "# create the display object\n",
        "sns.heatmap(cm, annot=True, cmap='Blues', fmt='g')\n",
        "\n",
        "# Add labels and title\n",
        "plt.xlabel('Predicted')\n",
        "plt.ylabel('True')\n",
        "\n",
        "\n",
        "# Show the plot\n",
        "plt.show()"
      ],
      "metadata": {
        "colab": {
          "base_uri": "https://localhost:8080/",
          "height": 453
        },
        "id": "ay28rV8t4EGA",
        "outputId": "0985dd2c-c2e9-4153-e615-e0889f050dbb"
      },
      "id": "ay28rV8t4EGA",
      "execution_count": null,
      "outputs": [
        {
          "output_type": "display_data",
          "data": {
            "text/plain": [
              "<Figure size 640x480 with 2 Axes>"
            ],
            "image/png": "[encoded data removed]"
          },
          "metadata": {}
        }
      ]
    },
    {
      "cell_type": "code",
      "source": [
        "report = classification_report(y_test, dty_pred)\n",
        "\n",
        "print(report)"
      ],
      "metadata": {
        "colab": {
          "base_uri": "https://localhost:8080/"
        },
        "id": "doQXtClV4U8O",
        "outputId": "333574aa-a7fc-4cd5-c135-be31e89d80e9"
      },
      "id": "doQXtClV4U8O",
      "execution_count": null,
      "outputs": [
        {
          "output_type": "stream",
          "name": "stdout",
          "text": [
            "              precision    recall  f1-score   support\n",
            "\n",
            "       green       0.94      0.91      0.93        68\n",
            "      orange       0.96      0.99      0.97        73\n",
            "         red       0.98      1.00      0.99        64\n",
            "      yellow       0.87      0.85      0.86        55\n",
            "\n",
            "    accuracy                           0.94       260\n",
            "   macro avg       0.94      0.94      0.94       260\n",
            "weighted avg       0.94      0.94      0.94       260\n",
            "\n"
          ]
        }
      ]
    },
    {
      "cell_type": "code",
      "source": [
        "#KNeighborsClassifier\n",
        "kny_pred = knn.predict(X_test)\n",
        "\n",
        "# Obtain the confusion matrix\n",
        "cm = confusion_matrix(y_test, kny_pred)\n",
        "sns.heatmap(cm, annot=True, cmap='Blues', fmt='g')\n",
        "\n",
        "# Add labels and title\n",
        "plt.xlabel('Predicted')\n",
        "plt.ylabel('True')\n",
        "\n",
        "\n",
        "# Show the plot\n",
        "plt.show()"
      ],
      "metadata": {
        "colab": {
          "base_uri": "https://localhost:8080/",
          "height": 454
        },
        "id": "tJVATgEe4X3m",
        "outputId": "0241491f-5dd0-4155-ff32-fd3893f7532d"
      },
      "id": "tJVATgEe4X3m",
      "execution_count": null,
      "outputs": [
        {
          "output_type": "display_data",
          "data": {
            "text/plain": [
              "<Figure size 640x480 with 2 Axes>"
            ],
            "image/png": "[encoded data removed]"
          },
          "metadata": {}
        }
      ]
    },
    {
      "cell_type": "code",
      "source": [
        "report = classification_report(y_test, kny_pred)\n",
        "\n",
        "print(report)"
      ],
      "metadata": {
        "colab": {
          "base_uri": "https://localhost:8080/"
        },
        "id": "iIt7w26D4bSy",
        "outputId": "23ea8cfe-3f56-465d-dc2c-be526416bcdc"
      },
      "id": "iIt7w26D4bSy",
      "execution_count": null,
      "outputs": [
        {
          "output_type": "stream",
          "name": "stdout",
          "text": [
            "              precision    recall  f1-score   support\n",
            "\n",
            "       green       1.00      0.79      0.89        68\n",
            "      orange       0.96      0.97      0.97        73\n",
            "         red       0.98      1.00      0.99        64\n",
            "      yellow       0.76      0.93      0.84        55\n",
            "\n",
            "    accuracy                           0.92       260\n",
            "   macro avg       0.93      0.92      0.92       260\n",
            "weighted avg       0.93      0.92      0.92       260\n",
            "\n"
          ]
        }
      ]
    },
    {
      "cell_type": "code",
      "source": [
        "#SVM\n",
        "svy_pred = svm.predict(X_test)\n",
        "\n",
        "# Obtain the confusion matrix\n",
        "cm = confusion_matrix(y_test, svy_pred)\n",
        "sns.heatmap(cm, annot=True, cmap='Blues', fmt='g')\n",
        "\n",
        "# Add labels and title\n",
        "plt.xlabel('Predicted')\n",
        "plt.ylabel('True')\n",
        "\n",
        "\n",
        "# Show the plot\n",
        "plt.show()"
      ],
      "metadata": {
        "colab": {
          "base_uri": "https://localhost:8080/",
          "height": 453
        },
        "id": "KLNp19Xh4edN",
        "outputId": "10a18ac0-28d5-4f5f-8eec-a3c029d0d8fd"
      },
      "id": "KLNp19Xh4edN",
      "execution_count": null,
      "outputs": [
        {
          "output_type": "display_data",
          "data": {
            "text/plain": [
              "<Figure size 640x480 with 2 Axes>"
            ],
            "image/png": "[encoded data removed]"
          },
          "metadata": {}
        }
      ]
    },
    {
      "cell_type": "code",
      "source": [
        "report = classification_report(y_test, svy_pred)\n",
        "\n",
        "print(report)"
      ],
      "metadata": {
        "colab": {
          "base_uri": "https://localhost:8080/"
        },
        "id": "ieh0IkkN4iEl",
        "outputId": "7bcfc634-4932-4c44-b0ba-4ed47253919a"
      },
      "id": "ieh0IkkN4iEl",
      "execution_count": null,
      "outputs": [
        {
          "output_type": "stream",
          "name": "stdout",
          "text": [
            "              precision    recall  f1-score   support\n",
            "\n",
            "       green       1.00      0.81      0.89        68\n",
            "      orange       0.99      0.95      0.97        73\n",
            "         red       1.00      1.00      1.00        64\n",
            "      yellow       0.76      0.98      0.86        55\n",
            "\n",
            "    accuracy                           0.93       260\n",
            "   macro avg       0.94      0.93      0.93       260\n",
            "weighted avg       0.95      0.93      0.93       260\n",
            "\n"
          ]
        }
      ]
    },
    {
      "cell_type": "code",
      "source": [
        "#RandomForestClassifier\t\n",
        "rfy_pred = rf.predict(X_test)\n",
        "\n",
        "# Obtain the confusion matrix\n",
        "cm = confusion_matrix(y_test, rfy_pred)\n",
        "sns.heatmap(cm, annot=True, cmap='Blues', fmt='g')\n",
        "\n",
        "# Add labels and title\n",
        "plt.xlabel('Predicted')\n",
        "plt.ylabel('True')\n",
        "\n",
        "\n",
        "# Show the plot\n",
        "plt.show()"
      ],
      "metadata": {
        "colab": {
          "base_uri": "https://localhost:8080/",
          "height": 453
        },
        "id": "qhwOaz3v4lEh",
        "outputId": "041cb8a8-0bf5-4410-e7fe-4f0ab669b0cb"
      },
      "id": "qhwOaz3v4lEh",
      "execution_count": null,
      "outputs": [
        {
          "output_type": "display_data",
          "data": {
            "text/plain": [
              "<Figure size 640x480 with 2 Axes>"
            ],
            "image/png": "[encoded data removed]"
          },
          "metadata": {}
        }
      ]
    },
    {
      "cell_type": "code",
      "source": [
        "report = classification_report(y_test, svy_pred)\n",
        "\n",
        "print(report)"
      ],
      "metadata": {
        "colab": {
          "base_uri": "https://localhost:8080/"
        },
        "id": "lb56dxW84rHd",
        "outputId": "990cfa3a-e8a7-43af-d5da-80aea3ee9282"
      },
      "id": "lb56dxW84rHd",
      "execution_count": null,
      "outputs": [
        {
          "output_type": "stream",
          "name": "stdout",
          "text": [
            "              precision    recall  f1-score   support\n",
            "\n",
            "       green       1.00      0.81      0.89        68\n",
            "      orange       0.99      0.95      0.97        73\n",
            "         red       1.00      1.00      1.00        64\n",
            "      yellow       0.76      0.98      0.86        55\n",
            "\n",
            "    accuracy                           0.93       260\n",
            "   macro avg       0.94      0.93      0.93       260\n",
            "weighted avg       0.95      0.93      0.93       260\n",
            "\n"
          ]
        }
      ]
    },
    {
      "cell_type": "code",
      "execution_count": null,
      "id": "46fc6b0f",
      "metadata": {
        "id": "46fc6b0f",
        "outputId": "c1222d6b-f17b-4f48-9431-2372554bcc70"
      },
      "outputs": [
        {
          "data": {
            "text/plain": [
              "RandomForestClassifier(random_state=42)"
            ]
          },
          "execution_count": 40,
          "metadata": {},
          "output_type": "execute_result"
        }
      ],
      "source": [
        "#Rebuilding the best models \n",
        "#i.e RandomForestClassifier \n",
        "rf = RandomForestClassifier(random_state=42)\n",
        "rf.fit(X_train, y_train)"
      ]
    },
    {
      "cell_type": "code",
      "source": [
        "X_train, X_test, y_train, y_test = train_test_split(X, y, test_size=0.2, random_state=42)\n",
        "\n",
        "# Train the model with RandomForestClassifier\n",
        "rf = RandomForestClassifier(random_state=42)\n",
        "rf.fit(X_train, y_train)"
      ],
      "metadata": {
        "colab": {
          "base_uri": "https://localhost:8080/",
          "height": 74
        },
        "id": "Uypx34go5ASZ",
        "outputId": "ff7ed8f5-f6c2-48ab-aac1-dd57e9a38377"
      },
      "id": "Uypx34go5ASZ",
      "execution_count": null,
      "outputs": [
        {
          "output_type": "execute_result",
          "data": {
            "text/plain": [
              "RandomForestClassifier(random_state=42)"
            ],
            "text/html": [
              "<style>#sk-container-id-1 {color: black;background-color: white;}#sk-container-id-1 pre{padding: 0;}#sk-container-id-1 div.sk-toggleable {background-color: white;}#sk-container-id-1 label.sk-toggleable__label {cursor: pointer;display: block;width: 100%;margin-bottom: 0;padding: 0.3em;box-sizing: border-box;text-align: center;}#sk-container-id-1 label.sk-toggleable__label-arrow:before {content: \"▸\";float: left;margin-right: 0.25em;color: #696969;}#sk-container-id-1 label.sk-toggleable__label-arrow:hover:before {color: black;}#sk-container-id-1 div.sk-estimator:hover label.sk-toggleable__label-arrow:before {color: black;}#sk-container-id-1 div.sk-toggleable__content {max-height: 0;max-width: 0;overflow: hidden;text-align: left;background-color: #f0f8ff;}#sk-container-id-1 div.sk-toggleable__content pre {margin: 0.2em;color: black;border-radius: 0.25em;background-color: #f0f8ff;}#sk-container-id-1 input.sk-toggleable__control:checked~div.sk-toggleable__content {max-height: 200px;max-width: 100%;overflow: auto;}#sk-container-id-1 input.sk-toggleable__control:checked~label.sk-toggleable__label-arrow:before {content: \"▾\";}#sk-container-id-1 div.sk-estimator input.sk-toggleable__control:checked~label.sk-toggleable__label {background-color: #d4ebff;}#sk-container-id-1 div.sk-label input.sk-toggleable__control:checked~label.sk-toggleable__label {background-color: #d4ebff;}#sk-container-id-1 input.sk-hidden--visually {border: 0;clip: rect(1px 1px 1px 1px);clip: rect(1px, 1px, 1px, 1px);height: 1px;margin: -1px;overflow: hidden;padding: 0;position: absolute;width: 1px;}#sk-container-id-1 div.sk-estimator {font-family: monospace;background-color: #f0f8ff;border: 1px dotted black;border-radius: 0.25em;box-sizing: border-box;margin-bottom: 0.5em;}#sk-container-id-1 div.sk-estimator:hover {background-color: #d4ebff;}#sk-container-id-1 div.sk-parallel-item::after {content: \"\";width: 100%;border-bottom: 1px solid gray;flex-grow: 1;}#sk-container-id-1 div.sk-label:hover label.sk-toggleable__label {background-color: #d4ebff;}#sk-container-id-1 div.sk-serial::before {content: \"\";position: absolute;border-left: 1px solid gray;box-sizing: border-box;top: 0;bottom: 0;left: 50%;z-index: 0;}#sk-container-id-1 div.sk-serial {display: flex;flex-direction: column;align-items: center;background-color: white;padding-right: 0.2em;padding-left: 0.2em;position: relative;}#sk-container-id-1 div.sk-item {position: relative;z-index: 1;}#sk-container-id-1 div.sk-parallel {display: flex;align-items: stretch;justify-content: center;background-color: white;position: relative;}#sk-container-id-1 div.sk-item::before, #sk-container-id-1 div.sk-parallel-item::before {content: \"\";position: absolute;border-left: 1px solid gray;box-sizing: border-box;top: 0;bottom: 0;left: 50%;z-index: -1;}#sk-container-id-1 div.sk-parallel-item {display: flex;flex-direction: column;z-index: 1;position: relative;background-color: white;}#sk-container-id-1 div.sk-parallel-item:first-child::after {align-self: flex-end;width: 50%;}#sk-container-id-1 div.sk-parallel-item:last-child::after {align-self: flex-start;width: 50%;}#sk-container-id-1 div.sk-parallel-item:only-child::after {width: 0;}#sk-container-id-1 div.sk-dashed-wrapped {border: 1px dashed gray;margin: 0 0.4em 0.5em 0.4em;box-sizing: border-box;padding-bottom: 0.4em;background-color: white;}#sk-container-id-1 div.sk-label label {font-family: monospace;font-weight: bold;display: inline-block;line-height: 1.2em;}#sk-container-id-1 div.sk-label-container {text-align: center;}#sk-container-id-1 div.sk-container {/* jupyter's `normalize.less` sets `[hidden] { display: none; }` but bootstrap.min.css set `[hidden] { display: none !important; }` so we also need the `!important` here to be able to override the default hidden behavior on the sphinx rendered scikit-learn.org. See: https://github.com/scikit-learn/scikit-learn/issues/21755 */display: inline-block !important;position: relative;}#sk-container-id-1 div.sk-text-repr-fallback {display: none;}</style><div id=\"sk-container-id-1\" class=\"sk-top-container\"><div class=\"sk-text-repr-fallback\"><pre>RandomForestClassifier(random_state=42)</pre><b>In a Jupyter environment, please rerun this cell to show the HTML representation or trust the notebook. <br />On GitHub, the HTML representation is unable to render, please try loading this page with nbviewer.org.</b></div><div class=\"sk-container\" hidden><div class=\"sk-item\"><div class=\"sk-estimator sk-toggleable\"><input class=\"sk-toggleable__control sk-hidden--visually\" id=\"sk-estimator-id-1\" type=\"checkbox\" checked><label for=\"sk-estimator-id-1\" class=\"sk-toggleable__label sk-toggleable__label-arrow\">RandomForestClassifier</label><div class=\"sk-toggleable__content\"><pre>RandomForestClassifier(random_state=42)</pre></div></div></div></div></div>"
            ]
          },
          "metadata": {},
          "execution_count": 48
        }
      ]
    },
    {
      "cell_type": "code",
      "source": [
        "train_acc = rf.score(X_train, y_train)\n",
        "test_acc = rf.score(X_test, y_test)\n",
        "\n",
        "# Plot the accuracy scores\n",
        "plt.plot([1, 2], [train_acc, test_acc], marker='o')\n",
        "plt.xticks([1, 2], ['Train', 'Test'])\n",
        "plt.ylabel('Accuracy')\n",
        "plt.title('Random Forest Classifier Accuracy')\n",
        "plt.show()"
      ],
      "metadata": {
        "colab": {
          "base_uri": "https://localhost:8080/",
          "height": 453
        },
        "id": "6fYImRTN5Jks",
        "outputId": "3bbd2cee-86a5-4252-cf12-af9ea4fb3e02"
      },
      "id": "6fYImRTN5Jks",
      "execution_count": null,
      "outputs": [
        {
          "output_type": "display_data",
          "data": {
            "text/plain": [
              "<Figure size 640x480 with 1 Axes>"
            ],
            "image/png": "[encoded data removed]"
          },
          "metadata": {}
        }
      ]
    },
    {
      "cell_type": "code",
      "execution_count": null,
      "id": "00d7cacb",
      "metadata": {
        "id": "00d7cacb",
        "outputId": "c59a7714-d2c0-4254-eca6-195e3b816d99",
        "colab": {
          "base_uri": "https://localhost:8080/",
          "height": 423
        }
      },
      "outputs": [
        {
          "output_type": "execute_result",
          "data": {
            "text/plain": [
              "       longitude   latitude       depth  cdi  mmi   sig      dmin  nst  \\\n",
              "0     159.596000  -9.796300   14.000000    8    7   768  0.509000  117   \n",
              "1     100.738000  -4.955900   25.000000    4    4   735  2.229000   99   \n",
              "2    -178.346000 -20.050800  579.000000    3    3   755  3.125000  147   \n",
              "3    -172.129000 -19.291800   37.000000    5    5   833  1.865000  149   \n",
              "4     178.278000 -25.594800  624.464000    0    2   670  4.998000  131   \n",
              "...          ...        ...         ...  ...  ...   ...       ...  ...   \n",
              "1295  -49.945540 -28.300916   26.928511    9    7  1696  0.308319   66   \n",
              "1296  153.596611  -4.583648   96.369547    9    7   972  1.490109    0   \n",
              "1297  -76.877601  -2.670949  141.767409    7    7  1142  2.018211    0   \n",
              "1298  -91.895195  14.317741   55.504201    6    6   956  0.581136    0   \n",
              "1299  119.904206   9.031155   14.621107    8    7   720  2.434771    0   \n",
              "\n",
              "            gap  \n",
              "0     17.000000  \n",
              "1     34.000000  \n",
              "2     18.000000  \n",
              "3     21.000000  \n",
              "4     27.000000  \n",
              "...         ...  \n",
              "1295  35.999831  \n",
              "1296  12.819125  \n",
              "1297  15.764642  \n",
              "1298  41.117683  \n",
              "1299  34.294980  \n",
              "\n",
              "[1300 rows x 9 columns]"
            ],
            "text/html": [
              "\n",
              "  <div id=\"df-e2944a7e-9a7d-4aa7-aa90-f91828b2d1a3\">\n",
              "    <div class=\"colab-df-container\">\n",
              "      <div>\n",
              "<style scoped>\n",
              "    .dataframe tbody tr th:only-of-type {\n",
              "        vertical-align: middle;\n",
              "    }\n",
              "\n",
              "    .dataframe tbody tr th {\n",
              "        vertical-align: top;\n",
              "    }\n",
              "\n",
              "    .dataframe thead th {\n",
              "        text-align: right;\n",
              "    }\n",
              "</style>\n",
              "<table border=\"1\" class=\"dataframe\">\n",
              "  <thead>\n",
              "    <tr style=\"text-align: right;\">\n",
              "      <th></th>\n",
              "      <th>longitude</th>\n",
              "      <th>latitude</th>\n",
              "      <th>depth</th>\n",
              "      <th>cdi</th>\n",
              "      <th>mmi</th>\n",
              "      <th>sig</th>\n",
              "      <th>dmin</th>\n",
              "      <th>nst</th>\n",
              "      <th>gap</th>\n",
              "    </tr>\n",
              "  </thead>\n",
              "  <tbody>\n",
              "    <tr>\n",
              "      <th>0</th>\n",
              "      <td>159.596000</td>\n",
              "      <td>-9.796300</td>\n",
              "      <td>14.000000</td>\n",
              "      <td>8</td>\n",
              "      <td>7</td>\n",
              "      <td>768</td>\n",
              "      <td>0.509000</td>\n",
              "      <td>117</td>\n",
              "      <td>17.000000</td>\n",
              "    </tr>\n",
              "    <tr>\n",
              "      <th>1</th>\n",
              "      <td>100.738000</td>\n",
              "      <td>-4.955900</td>\n",
              "      <td>25.000000</td>\n",
              "      <td>4</td>\n",
              "      <td>4</td>\n",
              "      <td>735</td>\n",
              "      <td>2.229000</td>\n",
              "      <td>99</td>\n",
              "      <td>34.000000</td>\n",
              "    </tr>\n",
              "    <tr>\n",
              "      <th>2</th>\n",
              "      <td>-178.346000</td>\n",
              "      <td>-20.050800</td>\n",
              "      <td>579.000000</td>\n",
              "      <td>3</td>\n",
              "      <td>3</td>\n",
              "      <td>755</td>\n",
              "      <td>3.125000</td>\n",
              "      <td>147</td>\n",
              "      <td>18.000000</td>\n",
              "    </tr>\n",
              "    <tr>\n",
              "      <th>3</th>\n",
              "      <td>-172.129000</td>\n",
              "      <td>-19.291800</td>\n",
              "      <td>37.000000</td>\n",
              "      <td>5</td>\n",
              "      <td>5</td>\n",
              "      <td>833</td>\n",
              "      <td>1.865000</td>\n",
              "      <td>149</td>\n",
              "      <td>21.000000</td>\n",
              "    </tr>\n",
              "    <tr>\n",
              "      <th>4</th>\n",
              "      <td>178.278000</td>\n",
              "      <td>-25.594800</td>\n",
              "      <td>624.464000</td>\n",
              "      <td>0</td>\n",
              "      <td>2</td>\n",
              "      <td>670</td>\n",
              "      <td>4.998000</td>\n",
              "      <td>131</td>\n",
              "      <td>27.000000</td>\n",
              "    </tr>\n",
              "    <tr>\n",
              "      <th>...</th>\n",
              "      <td>...</td>\n",
              "      <td>...</td>\n",
              "      <td>...</td>\n",
              "      <td>...</td>\n",
              "      <td>...</td>\n",
              "      <td>...</td>\n",
              "      <td>...</td>\n",
              "      <td>...</td>\n",
              "      <td>...</td>\n",
              "    </tr>\n",
              "    <tr>\n",
              "      <th>1295</th>\n",
              "      <td>-49.945540</td>\n",
              "      <td>-28.300916</td>\n",
              "      <td>26.928511</td>\n",
              "      <td>9</td>\n",
              "      <td>7</td>\n",
              "      <td>1696</td>\n",
              "      <td>0.308319</td>\n",
              "      <td>66</td>\n",
              "      <td>35.999831</td>\n",
              "    </tr>\n",
              "    <tr>\n",
              "      <th>1296</th>\n",
              "      <td>153.596611</td>\n",
              "      <td>-4.583648</td>\n",
              "      <td>96.369547</td>\n",
              "      <td>9</td>\n",
              "      <td>7</td>\n",
              "      <td>972</td>\n",
              "      <td>1.490109</td>\n",
              "      <td>0</td>\n",
              "      <td>12.819125</td>\n",
              "    </tr>\n",
              "    <tr>\n",
              "      <th>1297</th>\n",
              "      <td>-76.877601</td>\n",
              "      <td>-2.670949</td>\n",
              "      <td>141.767409</td>\n",
              "      <td>7</td>\n",
              "      <td>7</td>\n",
              "      <td>1142</td>\n",
              "      <td>2.018211</td>\n",
              "      <td>0</td>\n",
              "      <td>15.764642</td>\n",
              "    </tr>\n",
              "    <tr>\n",
              "      <th>1298</th>\n",
              "      <td>-91.895195</td>\n",
              "      <td>14.317741</td>\n",
              "      <td>55.504201</td>\n",
              "      <td>6</td>\n",
              "      <td>6</td>\n",
              "      <td>956</td>\n",
              "      <td>0.581136</td>\n",
              "      <td>0</td>\n",
              "      <td>41.117683</td>\n",
              "    </tr>\n",
              "    <tr>\n",
              "      <th>1299</th>\n",
              "      <td>119.904206</td>\n",
              "      <td>9.031155</td>\n",
              "      <td>14.621107</td>\n",
              "      <td>8</td>\n",
              "      <td>7</td>\n",
              "      <td>720</td>\n",
              "      <td>2.434771</td>\n",
              "      <td>0</td>\n",
              "      <td>34.294980</td>\n",
              "    </tr>\n",
              "  </tbody>\n",
              "</table>\n",
              "<p>1300 rows × 9 columns</p>\n",
              "</div>\n",
              "      <button class=\"colab-df-convert\" onclick=\"convertToInteractive('df-e2944a7e-9a7d-4aa7-aa90-f91828b2d1a3')\"\n",
              "              title=\"Convert this dataframe to an interactive table.\"\n",
              "              style=\"display:none;\">\n",
              "        \n",
              "  <svg xmlns=\"http://www.w3.org/2000/svg\" height=\"24px\"viewBox=\"0 0 24 24\"\n",
              "       width=\"24px\">\n",
              "    <path d=\"M0 0h24v24H0V0z\" fill=\"none\"/>\n",
              "    <path d=\"M18.56 5.44l.94 2.06.94-2.06 2.06-.94-2.06-.94-.94-2.06-.94 2.06-2.06.94zm-11 1L8.5 8.5l.94-2.06 2.06-.94-2.06-.94L8.5 2.5l-.94 2.06-2.06.94zm10 10l.94 2.06.94-2.06 2.06-.94-2.06-.94-.94-2.06-.94 2.06-2.06.94z\"/><path d=\"M17.41 7.96l-1.37-1.37c-.4-.4-.92-.59-1.43-.59-.52 0-1.04.2-1.43.59L10.3 9.45l-7.72 7.72c-.78.78-.78 2.05 0 2.83L4 21.41c.39.39.9.59 1.41.59.51 0 1.02-.2 1.41-.59l7.78-7.78 2.81-2.81c.8-.78.8-2.07 0-2.86zM5.41 20L4 18.59l7.72-7.72 1.47 1.35L5.41 20z\"/>\n",
              "  </svg>\n",
              "      </button>\n",
              "      \n",
              "  <style>\n",
              "    .colab-df-container {\n",
              "      display:flex;\n",
              "      flex-wrap:wrap;\n",
              "      gap: 12px;\n",
              "    }\n",
              "\n",
              "    .colab-df-convert {\n",
              "      background-color: #E8F0FE;\n",
              "      border: none;\n",
              "      border-radius: 50%;\n",
              "      cursor: pointer;\n",
              "      display: none;\n",
              "      fill: #1967D2;\n",
              "      height: 32px;\n",
              "      padding: 0 0 0 0;\n",
              "      width: 32px;\n",
              "    }\n",
              "\n",
              "    .colab-df-convert:hover {\n",
              "      background-color: #E2EBFA;\n",
              "      box-shadow: 0px 1px 2px rgba(60, 64, 67, 0.3), 0px 1px 3px 1px rgba(60, 64, 67, 0.15);\n",
              "      fill: #174EA6;\n",
              "    }\n",
              "\n",
              "    [theme=dark] .colab-df-convert {\n",
              "      background-color: #3B4455;\n",
              "      fill: #D2E3FC;\n",
              "    }\n",
              "\n",
              "    [theme=dark] .colab-df-convert:hover {\n",
              "      background-color: #434B5C;\n",
              "      box-shadow: 0px 1px 3px 1px rgba(0, 0, 0, 0.15);\n",
              "      filter: drop-shadow(0px 1px 2px rgba(0, 0, 0, 0.3));\n",
              "      fill: #FFFFFF;\n",
              "    }\n",
              "  </style>\n",
              "\n",
              "      <script>\n",
              "        const buttonEl =\n",
              "          document.querySelector('#df-e2944a7e-9a7d-4aa7-aa90-f91828b2d1a3 button.colab-df-convert');\n",
              "        buttonEl.style.display =\n",
              "          google.colab.kernel.accessAllowed ? 'block' : 'none';\n",
              "\n",
              "        async function convertToInteractive(key) {\n",
              "          const element = document.querySelector('#df-e2944a7e-9a7d-4aa7-aa90-f91828b2d1a3');\n",
              "          const dataTable =\n",
              "            await google.colab.kernel.invokeFunction('convertToInteractive',\n",
              "                                                     [key], {});\n",
              "          if (!dataTable) return;\n",
              "\n",
              "          const docLinkHtml = 'Like what you see? Visit the ' +\n",
              "            '<a target=\"_blank\" href=https://colab.research.google.com/notebooks/data_table.ipynb>data table notebook</a>'\n",
              "            + ' to learn more about interactive tables.';\n",
              "          element.innerHTML = '';\n",
              "          dataTable['output_type'] = 'display_data';\n",
              "          await google.colab.output.renderOutput(dataTable, element);\n",
              "          const docLink = document.createElement('div');\n",
              "          docLink.innerHTML = docLinkHtml;\n",
              "          element.appendChild(docLink);\n",
              "        }\n",
              "      </script>\n",
              "    </div>\n",
              "  </div>\n",
              "  "
            ]
          },
          "metadata": {},
          "execution_count": 56
        }
      ],
      "source": [
        "X_res"
      ]
    },
    {
      "cell_type": "code",
      "execution_count": null,
      "id": "3902adba",
      "metadata": {
        "id": "3902adba"
      },
      "outputs": [],
      "source": [
        "def model_final1(rf):\n",
        "    longitude = float(input('Enter the longitude: '))\n",
        "    latitude = float(input('Enter the latitude: '))\n",
        "    depth = float(input('Enter the depth: '))\n",
        "    cdi = float(input('Enter the cdi: '))\n",
        "    mmi = float(input('Enter the mmi: '))\n",
        "    sig = float(input('Enter the sig: '))\n",
        "    dmin = float(input('Enter the dmin: '))\n",
        "    nst = float(input('Enter the nst: '))\n",
        "    gap = float(input('Enter the gap: '))\n",
        "    \n",
        "    data = {'longitude': longitude, 'latitude': latitude, 'depth': depth, 'cdi': cdi, 'mmi': mmi, 'sig': sig,\n",
        "            'dmin': dmin, 'nst': nst, 'gap': gap}\n",
        "    \n",
        "    df = pd.DataFrame(data, index=[0])\n",
        "    \n",
        "    val = rf.predict(df)\n",
        "    \n",
        "    if val == 'orange':\n",
        "        print('High magnitude earthquake')\n",
        "    elif val == 'green':\n",
        "        print('Low magnitude earthquake')\n",
        "    elif val == 'yellow':\n",
        "        print('Medium magnitude earthquake')\n",
        "    elif val == 'red':\n",
        "        print('Very high magnitude earthquake')"
      ]
    },
    {
      "cell_type": "code",
      "execution_count": null,
      "id": "e9befbb1",
      "metadata": {
        "id": "e9befbb1"
      },
      "outputs": [],
      "source": [
        "#-178.3460,-20.0508,579,3,3,-13,579,green"
      ]
    },
    {
      "cell_type": "code",
      "execution_count": null,
      "id": "e647caca",
      "metadata": {
        "id": "e647caca",
        "outputId": "2928d7ca-28cb-4dc0-b069-d00adc8df7ae",
        "colab": {
          "base_uri": "https://localhost:8080/"
        }
      },
      "outputs": [
        {
          "output_type": "stream",
          "name": "stdout",
          "text": [
            "enter the logitude 159.5960\n",
            "enter the latitude -9.7963\n",
            "enter depth 14.000\t\n",
            "enter cdi 8\n",
            "enter mmi 7\n",
            "enter the sig 768\n",
            "enter sig 0.509\n",
            "enter nst 117\n",
            "enter gap 17\n",
            "['green']\n"
          ]
        }
      ],
      "source": [
        "model_final(rf)"
      ]
    },
    {
      "cell_type": "code",
      "execution_count": null,
      "id": "803a03c7",
      "metadata": {
        "id": "803a03c7"
      },
      "outputs": [],
      "source": [
        "# the color defines the alerts levels\n",
        "# green :-  low magnitude earthquakes\n",
        "# yellow :- medium magnitude earthquakes\n",
        "# orange :- high magnitude earthquakes\n",
        "# red :- very high magnitude earthquakes"
      ]
    },
    {
      "cell_type": "code",
      "execution_count": null,
      "id": "4a96d124",
      "metadata": {
        "scrolled": true,
        "id": "4a96d124",
        "outputId": "81c2af29-76c5-4178-872a-2ee4272c6e63"
      },
      "outputs": [
        {
          "data": {
            "text/html": [
              "<div>\n",
              "<style scoped>\n",
              "    .dataframe tbody tr th:only-of-type {\n",
              "        vertical-align: middle;\n",
              "    }\n",
              "\n",
              "    .dataframe tbody tr th {\n",
              "        vertical-align: top;\n",
              "    }\n",
              "\n",
              "    .dataframe thead th {\n",
              "        text-align: right;\n",
              "    }\n",
              "</style>\n",
              "<table border=\"1\" class=\"dataframe\">\n",
              "  <thead>\n",
              "    <tr style=\"text-align: right;\">\n",
              "      <th></th>\n",
              "      <th>longitude</th>\n",
              "      <th>latitude</th>\n",
              "      <th>depth</th>\n",
              "      <th>cdi</th>\n",
              "      <th>mmi</th>\n",
              "      <th>sig</th>\n",
              "      <th>dmin</th>\n",
              "      <th>nst</th>\n",
              "      <th>gap</th>\n",
              "      <th>alert</th>\n",
              "    </tr>\n",
              "  </thead>\n",
              "  <tbody>\n",
              "    <tr>\n",
              "      <th>0</th>\n",
              "      <td>159.5960</td>\n",
              "      <td>-9.7963</td>\n",
              "      <td>14.000</td>\n",
              "      <td>8</td>\n",
              "      <td>7</td>\n",
              "      <td>768</td>\n",
              "      <td>0.509</td>\n",
              "      <td>117</td>\n",
              "      <td>17.0</td>\n",
              "      <td>green</td>\n",
              "    </tr>\n",
              "    <tr>\n",
              "      <th>1</th>\n",
              "      <td>100.7380</td>\n",
              "      <td>-4.9559</td>\n",
              "      <td>25.000</td>\n",
              "      <td>4</td>\n",
              "      <td>4</td>\n",
              "      <td>735</td>\n",
              "      <td>2.229</td>\n",
              "      <td>99</td>\n",
              "      <td>34.0</td>\n",
              "      <td>green</td>\n",
              "    </tr>\n",
              "    <tr>\n",
              "      <th>2</th>\n",
              "      <td>-178.3460</td>\n",
              "      <td>-20.0508</td>\n",
              "      <td>579.000</td>\n",
              "      <td>3</td>\n",
              "      <td>3</td>\n",
              "      <td>755</td>\n",
              "      <td>3.125</td>\n",
              "      <td>147</td>\n",
              "      <td>18.0</td>\n",
              "      <td>green</td>\n",
              "    </tr>\n",
              "    <tr>\n",
              "      <th>3</th>\n",
              "      <td>-172.1290</td>\n",
              "      <td>-19.2918</td>\n",
              "      <td>37.000</td>\n",
              "      <td>5</td>\n",
              "      <td>5</td>\n",
              "      <td>833</td>\n",
              "      <td>1.865</td>\n",
              "      <td>149</td>\n",
              "      <td>21.0</td>\n",
              "      <td>green</td>\n",
              "    </tr>\n",
              "    <tr>\n",
              "      <th>4</th>\n",
              "      <td>178.2780</td>\n",
              "      <td>-25.5948</td>\n",
              "      <td>624.464</td>\n",
              "      <td>0</td>\n",
              "      <td>2</td>\n",
              "      <td>670</td>\n",
              "      <td>4.998</td>\n",
              "      <td>131</td>\n",
              "      <td>27.0</td>\n",
              "      <td>green</td>\n",
              "    </tr>\n",
              "    <tr>\n",
              "      <th>5</th>\n",
              "      <td>178.3810</td>\n",
              "      <td>-26.0442</td>\n",
              "      <td>660.000</td>\n",
              "      <td>4</td>\n",
              "      <td>3</td>\n",
              "      <td>755</td>\n",
              "      <td>4.578</td>\n",
              "      <td>142</td>\n",
              "      <td>26.0</td>\n",
              "      <td>green</td>\n",
              "    </tr>\n",
              "    <tr>\n",
              "      <th>6</th>\n",
              "      <td>178.3630</td>\n",
              "      <td>-25.9678</td>\n",
              "      <td>630.379</td>\n",
              "      <td>1</td>\n",
              "      <td>3</td>\n",
              "      <td>711</td>\n",
              "      <td>4.678</td>\n",
              "      <td>136</td>\n",
              "      <td>22.0</td>\n",
              "      <td>green</td>\n",
              "    </tr>\n",
              "    <tr>\n",
              "      <th>7</th>\n",
              "      <td>-82.3396</td>\n",
              "      <td>7.6712</td>\n",
              "      <td>20.000</td>\n",
              "      <td>7</td>\n",
              "      <td>6</td>\n",
              "      <td>797</td>\n",
              "      <td>1.151</td>\n",
              "      <td>145</td>\n",
              "      <td>37.0</td>\n",
              "      <td>green</td>\n",
              "    </tr>\n",
              "    <tr>\n",
              "      <th>8</th>\n",
              "      <td>-102.9130</td>\n",
              "      <td>18.3300</td>\n",
              "      <td>20.000</td>\n",
              "      <td>8</td>\n",
              "      <td>7</td>\n",
              "      <td>1179</td>\n",
              "      <td>2.137</td>\n",
              "      <td>175</td>\n",
              "      <td>92.0</td>\n",
              "      <td>yellow</td>\n",
              "    </tr>\n",
              "    <tr>\n",
              "      <th>9</th>\n",
              "      <td>-103.2520</td>\n",
              "      <td>18.3667</td>\n",
              "      <td>26.943</td>\n",
              "      <td>9</td>\n",
              "      <td>8</td>\n",
              "      <td>1799</td>\n",
              "      <td>1.153</td>\n",
              "      <td>271</td>\n",
              "      <td>69.0</td>\n",
              "      <td>yellow</td>\n",
              "    </tr>\n",
              "    <tr>\n",
              "      <th>10</th>\n",
              "      <td>121.3070</td>\n",
              "      <td>23.1444</td>\n",
              "      <td>10.000</td>\n",
              "      <td>9</td>\n",
              "      <td>9</td>\n",
              "      <td>887</td>\n",
              "      <td>0.401</td>\n",
              "      <td>215</td>\n",
              "      <td>34.0</td>\n",
              "      <td>yellow</td>\n",
              "    </tr>\n",
              "    <tr>\n",
              "      <th>11</th>\n",
              "      <td>121.3480</td>\n",
              "      <td>23.0290</td>\n",
              "      <td>10.000</td>\n",
              "      <td>7</td>\n",
              "      <td>7</td>\n",
              "      <td>756</td>\n",
              "      <td>0.430</td>\n",
              "      <td>178</td>\n",
              "      <td>54.0</td>\n",
              "      <td>green</td>\n",
              "    </tr>\n",
              "    <tr>\n",
              "      <th>12</th>\n",
              "      <td>170.2390</td>\n",
              "      <td>-21.2077</td>\n",
              "      <td>137.000</td>\n",
              "      <td>7</td>\n",
              "      <td>5</td>\n",
              "      <td>761</td>\n",
              "      <td>2.977</td>\n",
              "      <td>192</td>\n",
              "      <td>45.0</td>\n",
              "      <td>green</td>\n",
              "    </tr>\n",
              "    <tr>\n",
              "      <th>13</th>\n",
              "      <td>146.4710</td>\n",
              "      <td>-6.2237</td>\n",
              "      <td>116.000</td>\n",
              "      <td>8</td>\n",
              "      <td>8</td>\n",
              "      <td>965</td>\n",
              "      <td>3.158</td>\n",
              "      <td>272</td>\n",
              "      <td>12.0</td>\n",
              "      <td>yellow</td>\n",
              "    </tr>\n",
              "    <tr>\n",
              "      <th>14</th>\n",
              "      <td>102.2790</td>\n",
              "      <td>29.7263</td>\n",
              "      <td>12.000</td>\n",
              "      <td>9</td>\n",
              "      <td>8</td>\n",
              "      <td>1043</td>\n",
              "      <td>8.454</td>\n",
              "      <td>141</td>\n",
              "      <td>34.0</td>\n",
              "      <td>orange</td>\n",
              "    </tr>\n",
              "    <tr>\n",
              "      <th>15</th>\n",
              "      <td>-178.9590</td>\n",
              "      <td>-32.6922</td>\n",
              "      <td>30.000</td>\n",
              "      <td>7</td>\n",
              "      <td>6</td>\n",
              "      <td>672</td>\n",
              "      <td>5.293</td>\n",
              "      <td>68</td>\n",
              "      <td>34.0</td>\n",
              "      <td>green</td>\n",
              "    </tr>\n",
              "    <tr>\n",
              "      <th>16</th>\n",
              "      <td>120.8090</td>\n",
              "      <td>17.5978</td>\n",
              "      <td>33.729</td>\n",
              "      <td>9</td>\n",
              "      <td>8</td>\n",
              "      <td>1351</td>\n",
              "      <td>5.276</td>\n",
              "      <td>152</td>\n",
              "      <td>22.0</td>\n",
              "      <td>yellow</td>\n",
              "    </tr>\n",
              "    <tr>\n",
              "      <th>17</th>\n",
              "      <td>-71.1647</td>\n",
              "      <td>-9.0618</td>\n",
              "      <td>622.730</td>\n",
              "      <td>3</td>\n",
              "      <td>2</td>\n",
              "      <td>653</td>\n",
              "      <td>1.999</td>\n",
              "      <td>236</td>\n",
              "      <td>31.0</td>\n",
              "      <td>green</td>\n",
              "    </tr>\n",
              "    <tr>\n",
              "      <th>18</th>\n",
              "      <td>-70.3081</td>\n",
              "      <td>-14.8628</td>\n",
              "      <td>236.000</td>\n",
              "      <td>7</td>\n",
              "      <td>5</td>\n",
              "      <td>876</td>\n",
              "      <td>2.494</td>\n",
              "      <td>144</td>\n",
              "      <td>40.0</td>\n",
              "      <td>green</td>\n",
              "    </tr>\n",
              "    <tr>\n",
              "      <th>19</th>\n",
              "      <td>159.0270</td>\n",
              "      <td>-54.1325</td>\n",
              "      <td>10.000</td>\n",
              "      <td>2</td>\n",
              "      <td>5</td>\n",
              "      <td>733</td>\n",
              "      <td>0.371</td>\n",
              "      <td>127</td>\n",
              "      <td>45.0</td>\n",
              "      <td>green</td>\n",
              "    </tr>\n",
              "    <tr>\n",
              "      <th>20</th>\n",
              "      <td>-66.7236</td>\n",
              "      <td>-23.6141</td>\n",
              "      <td>220.000</td>\n",
              "      <td>6</td>\n",
              "      <td>5</td>\n",
              "      <td>762</td>\n",
              "      <td>1.505</td>\n",
              "      <td>162</td>\n",
              "      <td>30.0</td>\n",
              "      <td>green</td>\n",
              "    </tr>\n",
              "    <tr>\n",
              "      <th>21</th>\n",
              "      <td>-86.9919</td>\n",
              "      <td>11.5538</td>\n",
              "      <td>27.000</td>\n",
              "      <td>6</td>\n",
              "      <td>5</td>\n",
              "      <td>762</td>\n",
              "      <td>0.914</td>\n",
              "      <td>0</td>\n",
              "      <td>94.0</td>\n",
              "      <td>green</td>\n",
              "    </tr>\n",
              "    <tr>\n",
              "      <th>22</th>\n",
              "      <td>170.3490</td>\n",
              "      <td>-22.5732</td>\n",
              "      <td>10.000</td>\n",
              "      <td>6</td>\n",
              "      <td>4</td>\n",
              "      <td>763</td>\n",
              "      <td>2.705</td>\n",
              "      <td>0</td>\n",
              "      <td>26.0</td>\n",
              "      <td>green</td>\n",
              "    </tr>\n",
              "    <tr>\n",
              "      <th>23</th>\n",
              "      <td>170.2770</td>\n",
              "      <td>-22.7200</td>\n",
              "      <td>10.000</td>\n",
              "      <td>6</td>\n",
              "      <td>4</td>\n",
              "      <td>738</td>\n",
              "      <td>2.697</td>\n",
              "      <td>0</td>\n",
              "      <td>42.0</td>\n",
              "      <td>green</td>\n",
              "    </tr>\n",
              "    <tr>\n",
              "      <th>24</th>\n",
              "      <td>121.6360</td>\n",
              "      <td>23.3421</td>\n",
              "      <td>24.000</td>\n",
              "      <td>8</td>\n",
              "      <td>7</td>\n",
              "      <td>806</td>\n",
              "      <td>0.289</td>\n",
              "      <td>0</td>\n",
              "      <td>32.0</td>\n",
              "      <td>green</td>\n",
              "    </tr>\n",
              "    <tr>\n",
              "      <th>25</th>\n",
              "      <td>141.5870</td>\n",
              "      <td>37.7015</td>\n",
              "      <td>41.000</td>\n",
              "      <td>9</td>\n",
              "      <td>8</td>\n",
              "      <td>2397</td>\n",
              "      <td>2.936</td>\n",
              "      <td>0</td>\n",
              "      <td>29.0</td>\n",
              "      <td>red</td>\n",
              "    </tr>\n",
              "    <tr>\n",
              "      <th>26</th>\n",
              "      <td>98.6034</td>\n",
              "      <td>-0.6831</td>\n",
              "      <td>28.000</td>\n",
              "      <td>9</td>\n",
              "      <td>6</td>\n",
              "      <td>708</td>\n",
              "      <td>2.188</td>\n",
              "      <td>0</td>\n",
              "      <td>43.0</td>\n",
              "      <td>green</td>\n",
              "    </tr>\n",
              "    <tr>\n",
              "      <th>27</th>\n",
              "      <td>-177.7400</td>\n",
              "      <td>-30.0528</td>\n",
              "      <td>24.000</td>\n",
              "      <td>2</td>\n",
              "      <td>7</td>\n",
              "      <td>670</td>\n",
              "      <td>0.827</td>\n",
              "      <td>0</td>\n",
              "      <td>46.0</td>\n",
              "      <td>green</td>\n",
              "    </tr>\n",
              "    <tr>\n",
              "      <th>28</th>\n",
              "      <td>-179.9680</td>\n",
              "      <td>-23.7852</td>\n",
              "      <td>535.000</td>\n",
              "      <td>2</td>\n",
              "      <td>3</td>\n",
              "      <td>712</td>\n",
              "      <td>5.780</td>\n",
              "      <td>0</td>\n",
              "      <td>12.0</td>\n",
              "      <td>green</td>\n",
              "    </tr>\n",
              "    <tr>\n",
              "      <th>29</th>\n",
              "      <td>-76.9395</td>\n",
              "      <td>-4.4550</td>\n",
              "      <td>110.000</td>\n",
              "      <td>8</td>\n",
              "      <td>6</td>\n",
              "      <td>690</td>\n",
              "      <td>3.026</td>\n",
              "      <td>0</td>\n",
              "      <td>22.0</td>\n",
              "      <td>green</td>\n",
              "    </tr>\n",
              "    <tr>\n",
              "      <th>30</th>\n",
              "      <td>-176.7290</td>\n",
              "      <td>-29.5350</td>\n",
              "      <td>8.000</td>\n",
              "      <td>7</td>\n",
              "      <td>4</td>\n",
              "      <td>651</td>\n",
              "      <td>1.088</td>\n",
              "      <td>0</td>\n",
              "      <td>57.0</td>\n",
              "      <td>green</td>\n",
              "    </tr>\n",
              "    <tr>\n",
              "      <th>31</th>\n",
              "      <td>105.2510</td>\n",
              "      <td>-6.9291</td>\n",
              "      <td>33.000</td>\n",
              "      <td>8</td>\n",
              "      <td>6</td>\n",
              "      <td>785</td>\n",
              "      <td>2.418</td>\n",
              "      <td>0</td>\n",
              "      <td>22.0</td>\n",
              "      <td>green</td>\n",
              "    </tr>\n",
              "    <tr>\n",
              "      <th>34</th>\n",
              "      <td>-168.1500</td>\n",
              "      <td>52.6252</td>\n",
              "      <td>19.000</td>\n",
              "      <td>8</td>\n",
              "      <td>5</td>\n",
              "      <td>674</td>\n",
              "      <td>0.507</td>\n",
              "      <td>0</td>\n",
              "      <td>49.0</td>\n",
              "      <td>green</td>\n",
              "    </tr>\n",
              "    <tr>\n",
              "      <th>37</th>\n",
              "      <td>-167.9170</td>\n",
              "      <td>52.6563</td>\n",
              "      <td>20.000</td>\n",
              "      <td>7</td>\n",
              "      <td>6</td>\n",
              "      <td>730</td>\n",
              "      <td>0.920</td>\n",
              "      <td>0</td>\n",
              "      <td>61.0</td>\n",
              "      <td>green</td>\n",
              "    </tr>\n",
              "    <tr>\n",
              "      <th>38</th>\n",
              "      <td>31.9095</td>\n",
              "      <td>35.1456</td>\n",
              "      <td>21.000</td>\n",
              "      <td>6</td>\n",
              "      <td>6</td>\n",
              "      <td>976</td>\n",
              "      <td>1.168</td>\n",
              "      <td>0</td>\n",
              "      <td>21.0</td>\n",
              "      <td>green</td>\n",
              "    </tr>\n",
              "    <tr>\n",
              "      <th>39</th>\n",
              "      <td>101.2990</td>\n",
              "      <td>37.8167</td>\n",
              "      <td>13.000</td>\n",
              "      <td>9</td>\n",
              "      <td>8</td>\n",
              "      <td>1012</td>\n",
              "      <td>2.685</td>\n",
              "      <td>0</td>\n",
              "      <td>13.0</td>\n",
              "      <td>orange</td>\n",
              "    </tr>\n",
              "    <tr>\n",
              "      <th>40</th>\n",
              "      <td>127.5810</td>\n",
              "      <td>-7.5924</td>\n",
              "      <td>165.490</td>\n",
              "      <td>8</td>\n",
              "      <td>7</td>\n",
              "      <td>921</td>\n",
              "      <td>3.713</td>\n",
              "      <td>0</td>\n",
              "      <td>19.0</td>\n",
              "      <td>green</td>\n",
              "    </tr>\n",
              "    <tr>\n",
              "      <th>41</th>\n",
              "      <td>122.2000</td>\n",
              "      <td>-7.6033</td>\n",
              "      <td>14.270</td>\n",
              "      <td>9</td>\n",
              "      <td>5</td>\n",
              "      <td>854</td>\n",
              "      <td>1.025</td>\n",
              "      <td>0</td>\n",
              "      <td>32.0</td>\n",
              "      <td>green</td>\n",
              "    </tr>\n",
              "    <tr>\n",
              "      <th>42</th>\n",
              "      <td>-76.8461</td>\n",
              "      <td>-4.4898</td>\n",
              "      <td>126.000</td>\n",
              "      <td>8</td>\n",
              "      <td>8</td>\n",
              "      <td>1094</td>\n",
              "      <td>4.951</td>\n",
              "      <td>0</td>\n",
              "      <td>40.0</td>\n",
              "      <td>yellow</td>\n",
              "    </tr>\n",
              "    <tr>\n",
              "      <th>43</th>\n",
              "      <td>126.4800</td>\n",
              "      <td>23.5414</td>\n",
              "      <td>12.000</td>\n",
              "      <td>7</td>\n",
              "      <td>4</td>\n",
              "      <td>688</td>\n",
              "      <td>3.259</td>\n",
              "      <td>0</td>\n",
              "      <td>15.0</td>\n",
              "      <td>green</td>\n",
              "    </tr>\n",
              "    <tr>\n",
              "      <th>44</th>\n",
              "      <td>-156.4920</td>\n",
              "      <td>56.2581</td>\n",
              "      <td>51.600</td>\n",
              "      <td>8</td>\n",
              "      <td>6</td>\n",
              "      <td>995</td>\n",
              "      <td>0.000</td>\n",
              "      <td>0</td>\n",
              "      <td>0.0</td>\n",
              "      <td>green</td>\n",
              "    </tr>\n",
              "    <tr>\n",
              "      <th>45</th>\n",
              "      <td>174.5400</td>\n",
              "      <td>-21.1704</td>\n",
              "      <td>535.000</td>\n",
              "      <td>4</td>\n",
              "      <td>3</td>\n",
              "      <td>740</td>\n",
              "      <td>4.778</td>\n",
              "      <td>0</td>\n",
              "      <td>31.0</td>\n",
              "      <td>green</td>\n",
              "    </tr>\n",
              "    <tr>\n",
              "      <th>46</th>\n",
              "      <td>174.8950</td>\n",
              "      <td>-21.1036</td>\n",
              "      <td>527.000</td>\n",
              "      <td>4</td>\n",
              "      <td>4</td>\n",
              "      <td>826</td>\n",
              "      <td>4.493</td>\n",
              "      <td>0</td>\n",
              "      <td>32.0</td>\n",
              "      <td>green</td>\n",
              "    </tr>\n",
              "    <tr>\n",
              "      <th>47</th>\n",
              "      <td>-87.8542</td>\n",
              "      <td>12.1598</td>\n",
              "      <td>21.000</td>\n",
              "      <td>7</td>\n",
              "      <td>5</td>\n",
              "      <td>684</td>\n",
              "      <td>0.993</td>\n",
              "      <td>0</td>\n",
              "      <td>114.0</td>\n",
              "      <td>green</td>\n",
              "    </tr>\n",
              "    <tr>\n",
              "      <th>48</th>\n",
              "      <td>-99.7877</td>\n",
              "      <td>16.9502</td>\n",
              "      <td>20.000</td>\n",
              "      <td>8</td>\n",
              "      <td>8</td>\n",
              "      <td>2504</td>\n",
              "      <td>0.070</td>\n",
              "      <td>0</td>\n",
              "      <td>43.0</td>\n",
              "      <td>red</td>\n",
              "    </tr>\n",
              "    <tr>\n",
              "      <th>49</th>\n",
              "      <td>-24.9992</td>\n",
              "      <td>-60.3026</td>\n",
              "      <td>6.000</td>\n",
              "      <td>1</td>\n",
              "      <td>4</td>\n",
              "      <td>776</td>\n",
              "      <td>9.799</td>\n",
              "      <td>0</td>\n",
              "      <td>32.0</td>\n",
              "      <td>green</td>\n",
              "    </tr>\n",
              "    <tr>\n",
              "      <th>50</th>\n",
              "      <td>-24.4608</td>\n",
              "      <td>-60.1023</td>\n",
              "      <td>7.000</td>\n",
              "      <td>1</td>\n",
              "      <td>3</td>\n",
              "      <td>670</td>\n",
              "      <td>8.865</td>\n",
              "      <td>0</td>\n",
              "      <td>19.0</td>\n",
              "      <td>green</td>\n",
              "    </tr>\n",
              "    <tr>\n",
              "      <th>51</th>\n",
              "      <td>167.0850</td>\n",
              "      <td>-14.8920</td>\n",
              "      <td>93.000</td>\n",
              "      <td>8</td>\n",
              "      <td>7</td>\n",
              "      <td>741</td>\n",
              "      <td>0.579</td>\n",
              "      <td>0</td>\n",
              "      <td>54.0</td>\n",
              "      <td>green</td>\n",
              "    </tr>\n",
              "    <tr>\n",
              "      <th>52</th>\n",
              "      <td>-23.3318</td>\n",
              "      <td>-58.3814</td>\n",
              "      <td>16.700</td>\n",
              "      <td>6</td>\n",
              "      <td>4</td>\n",
              "      <td>734</td>\n",
              "      <td>8.363</td>\n",
              "      <td>0</td>\n",
              "      <td>48.0</td>\n",
              "      <td>green</td>\n",
              "    </tr>\n",
              "    <tr>\n",
              "      <th>53</th>\n",
              "      <td>-73.4804</td>\n",
              "      <td>18.3521</td>\n",
              "      <td>10.000</td>\n",
              "      <td>9</td>\n",
              "      <td>8</td>\n",
              "      <td>2331</td>\n",
              "      <td>1.178</td>\n",
              "      <td>0</td>\n",
              "      <td>23.0</td>\n",
              "      <td>red</td>\n",
              "    </tr>\n",
              "  </tbody>\n",
              "</table>\n",
              "</div>"
            ],
            "text/plain": [
              "    longitude  latitude    depth  cdi  mmi   sig   dmin  nst    gap   alert\n",
              "0    159.5960   -9.7963   14.000    8    7   768  0.509  117   17.0   green\n",
              "1    100.7380   -4.9559   25.000    4    4   735  2.229   99   34.0   green\n",
              "2   -178.3460  -20.0508  579.000    3    3   755  3.125  147   18.0   green\n",
              "3   -172.1290  -19.2918   37.000    5    5   833  1.865  149   21.0   green\n",
              "4    178.2780  -25.5948  624.464    0    2   670  4.998  131   27.0   green\n",
              "5    178.3810  -26.0442  660.000    4    3   755  4.578  142   26.0   green\n",
              "6    178.3630  -25.9678  630.379    1    3   711  4.678  136   22.0   green\n",
              "7    -82.3396    7.6712   20.000    7    6   797  1.151  145   37.0   green\n",
              "8   -102.9130   18.3300   20.000    8    7  1179  2.137  175   92.0  yellow\n",
              "9   -103.2520   18.3667   26.943    9    8  1799  1.153  271   69.0  yellow\n",
              "10   121.3070   23.1444   10.000    9    9   887  0.401  215   34.0  yellow\n",
              "11   121.3480   23.0290   10.000    7    7   756  0.430  178   54.0   green\n",
              "12   170.2390  -21.2077  137.000    7    5   761  2.977  192   45.0   green\n",
              "13   146.4710   -6.2237  116.000    8    8   965  3.158  272   12.0  yellow\n",
              "14   102.2790   29.7263   12.000    9    8  1043  8.454  141   34.0  orange\n",
              "15  -178.9590  -32.6922   30.000    7    6   672  5.293   68   34.0   green\n",
              "16   120.8090   17.5978   33.729    9    8  1351  5.276  152   22.0  yellow\n",
              "17   -71.1647   -9.0618  622.730    3    2   653  1.999  236   31.0   green\n",
              "18   -70.3081  -14.8628  236.000    7    5   876  2.494  144   40.0   green\n",
              "19   159.0270  -54.1325   10.000    2    5   733  0.371  127   45.0   green\n",
              "20   -66.7236  -23.6141  220.000    6    5   762  1.505  162   30.0   green\n",
              "21   -86.9919   11.5538   27.000    6    5   762  0.914    0   94.0   green\n",
              "22   170.3490  -22.5732   10.000    6    4   763  2.705    0   26.0   green\n",
              "23   170.2770  -22.7200   10.000    6    4   738  2.697    0   42.0   green\n",
              "24   121.6360   23.3421   24.000    8    7   806  0.289    0   32.0   green\n",
              "25   141.5870   37.7015   41.000    9    8  2397  2.936    0   29.0     red\n",
              "26    98.6034   -0.6831   28.000    9    6   708  2.188    0   43.0   green\n",
              "27  -177.7400  -30.0528   24.000    2    7   670  0.827    0   46.0   green\n",
              "28  -179.9680  -23.7852  535.000    2    3   712  5.780    0   12.0   green\n",
              "29   -76.9395   -4.4550  110.000    8    6   690  3.026    0   22.0   green\n",
              "30  -176.7290  -29.5350    8.000    7    4   651  1.088    0   57.0   green\n",
              "31   105.2510   -6.9291   33.000    8    6   785  2.418    0   22.0   green\n",
              "34  -168.1500   52.6252   19.000    8    5   674  0.507    0   49.0   green\n",
              "37  -167.9170   52.6563   20.000    7    6   730  0.920    0   61.0   green\n",
              "38    31.9095   35.1456   21.000    6    6   976  1.168    0   21.0   green\n",
              "39   101.2990   37.8167   13.000    9    8  1012  2.685    0   13.0  orange\n",
              "40   127.5810   -7.5924  165.490    8    7   921  3.713    0   19.0   green\n",
              "41   122.2000   -7.6033   14.270    9    5   854  1.025    0   32.0   green\n",
              "42   -76.8461   -4.4898  126.000    8    8  1094  4.951    0   40.0  yellow\n",
              "43   126.4800   23.5414   12.000    7    4   688  3.259    0   15.0   green\n",
              "44  -156.4920   56.2581   51.600    8    6   995  0.000    0    0.0   green\n",
              "45   174.5400  -21.1704  535.000    4    3   740  4.778    0   31.0   green\n",
              "46   174.8950  -21.1036  527.000    4    4   826  4.493    0   32.0   green\n",
              "47   -87.8542   12.1598   21.000    7    5   684  0.993    0  114.0   green\n",
              "48   -99.7877   16.9502   20.000    8    8  2504  0.070    0   43.0     red\n",
              "49   -24.9992  -60.3026    6.000    1    4   776  9.799    0   32.0   green\n",
              "50   -24.4608  -60.1023    7.000    1    3   670  8.865    0   19.0   green\n",
              "51   167.0850  -14.8920   93.000    8    7   741  0.579    0   54.0   green\n",
              "52   -23.3318  -58.3814   16.700    6    4   734  8.363    0   48.0   green\n",
              "53   -73.4804   18.3521   10.000    9    8  2331  1.178    0   23.0     red"
            ]
          },
          "execution_count": 46,
          "metadata": {},
          "output_type": "execute_result"
        }
      ],
      "source": [
        "df.head(50)"
      ]
    },
    {
      "cell_type": "code",
      "metadata": {
        "id": "Nn60MdxByjgz"
      },
      "source": [
        "import pickle"
      ],
      "execution_count": null,
      "outputs": [],
      "id": "Nn60MdxByjgz"
    },
    {
      "cell_type": "code",
      "metadata": {
        "id": "AFHvv6L5-k_C"
      },
      "source": [
        "filename = 'rf_model.pkl'\n",
        "pickle.dump(rf, open(filename, 'wb'))"
      ],
      "execution_count": null,
      "outputs": [],
      "id": "AFHvv6L5-k_C"
    },
    {
      "cell_type": "code",
      "metadata": {
        "id": "Wk1T2sMcQ6_U"
      },
      "source": [
        "# loading the saved model\n",
        "loaded_model = pickle.load(open('rf_model.pkl', 'rb'))"
      ],
      "execution_count": null,
      "outputs": [],
      "id": "Wk1T2sMcQ6_U"
    }
  ],
  "metadata": {
    "kernelspec": {
      "display_name": "Python 3 (ipykernel)",
      "language": "python",
      "name": "python3"
    },
    "language_info": {
      "codemirror_mode": {
        "name": "ipython",
        "version": 3
      },
      "file_extension": ".py",
      "mimetype": "text/x-python",
      "name": "python",
      "nbconvert_exporter": "python",
      "pygments_lexer": "ipython3",
      "version": "3.9.12"
    },
    "papermill": {
      "default_parameters": {},
      "duration": 18.601339,
      "end_time": "2023-03-16T16:52:47.399878",
      "environment_variables": {},
      "exception": null,
      "input_path": "__notebook__.ipynb",
      "output_path": "__notebook__.ipynb",
      "parameters": {},
      "start_time": "2023-03-16T16:52:28.798539",
      "version": "2.4.0"
    },
    "colab": {
      "provenance": []
    }
  },
  "nbformat": 4,
  "nbformat_minor": 5
}